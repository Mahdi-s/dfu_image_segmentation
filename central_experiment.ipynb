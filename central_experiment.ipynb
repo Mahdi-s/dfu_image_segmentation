{
 "cells": [
  {
   "cell_type": "markdown",
   "id": "03dccfbc-12e0-4ee4-a5c0-2e6b8716c00e",
   "metadata": {},
   "source": [
    "#### Central Training Notebook without differential Privacy\r\n",
    "This notebook helps you set up a central machine learning workflow involving a Neural Network based on UNET architecture. It consists o f  sections starting from loading necessary external modules, i.e., pytorch, albumentations, and wandb, to name a few. Next, we'll move to loading our data, modifying it to ensure consistency, and finally defining our model and training. The last section involves examining the results of training, to ensure the validity of the model and ensuring privacy is preserved since we intend to use the model on sensitive medical data."
   ]
  },
  {
   "cell_type": "markdown",
   "id": "fa445ed0-407a-4159-bfcc-010a99fcb274",
   "metadata": {},
   "source": [
    "### 1. Loading External Libraries"
   ]
  },
  {
   "cell_type": "code",
   "execution_count": 35,
   "id": "eda3fc1a-cb7d-45a2-9b11-76b58dfd5e08",
   "metadata": {
    "tags": []
   },
   "outputs": [],
   "source": [
    "import os\n",
    "from PIL import Image\n",
    "from torch.utils.data import Dataset\n",
    "import numpy as np\n",
    "import pandas as pd\n",
    "import torch\n",
    "import torch.nn as nn\n",
    "import torchvision.transforms.functional as TF\n",
    "import torchvision\n",
    "from torch.utils.data import DataLoader\n",
    "import albumentations as A\n",
    "from albumentations.pytorch import ToTensorV2\n",
    "from tqdm import tqdm\n",
    "import torch.optim as optim"
   ]
  },
  {
   "cell_type": "markdown",
   "id": "d50a5900-22ff-454b-a490-a1bbf1e4354d",
   "metadata": {},
   "source": [
    "### 2. Custom Dataloader definition\n",
    "In this section we specify the path to our data on disk and load the images and associated masks"
   ]
  },
  {
   "cell_type": "code",
   "execution_count": 36,
   "id": "de90a09a-7def-4111-9caf-77ce17502782",
   "metadata": {
    "tags": []
   },
   "outputs": [],
   "source": [
    "class WoundDataset(Dataset):\n",
    "    def __init__(self, image_dir, mask_dir, transform=None, num_images=None, start_index=0):\n",
    "        \"\"\"\n",
    "        :param image_dir: str, path to the directory containing the images\n",
    "        :param mask_dir: str, path to the directory containing the masks\n",
    "        :param transform: callable, optional transform to be applied on a sample\n",
    "        :param num_images: int, optional number of images to load\n",
    "        :param start_index: int, index to start loading images from\n",
    "        \"\"\"\n",
    "        self.image_dir = image_dir\n",
    "        self.mask_dir = mask_dir\n",
    "        self.transform = transform\n",
    "        self.images = os.listdir(image_dir)\n",
    "        self.images.sort()  # Make sure images are sorted to have consistent order\n",
    "        \n",
    "        if num_images is not None:\n",
    "            end_index = start_index + num_images\n",
    "            self.images = self.images[start_index:end_index]\n",
    "        else:\n",
    "            self.images = self.images[start_index:]\n",
    "            \n",
    "    def __len__(self):\n",
    "        return len(self.images)\n",
    "\n",
    "    def __getitem__(self, index):\n",
    "        img_path = os.path.join(self.image_dir, self.images[index])\n",
    "        mask_path = os.path.join(self.mask_dir, self.images[index])\n",
    "        image = np.array(Image.open(img_path).convert(\"RGB\"))\n",
    "        mask = np.array(Image.open(mask_path).convert(\"L\"), dtype=np.float32)\n",
    "        mask[mask == 255.0] = 1.0\n",
    "        if self.transform is not None:\n",
    "            augmentations = self.transform(image=image, mask=mask)\n",
    "            image = augmentations[\"image\"]\n",
    "            mask = augmentations[\"mask\"]\n",
    "        return image, mask\n"
   ]
  },
  {
   "cell_type": "markdown",
   "id": "cff6beda-f600-4b68-99e1-87bd0db48c1c",
   "metadata": {},
   "source": [
    "### 3. UNET Model Definition\n",
    "\n",
    "The provided class defines a deep learning architecture called \"UNET,\" which is a convolutional neural network (CNN) commonly used for semantic image segmentation tasks. UNET is known for its symmetric architecture with a contracting path (encoder) and an expansive path (decoder). The code is structured into two main classes: DoubleConv and UNET.\n",
    "\n",
    "The DoubleConv class represents a basic building block within the UNET architecture. It consists of two consecutive convolutional layers, each followed by batch normalization and a rectified linear unit (ReLU) activation function. This sequence of operations is designed to capture and enhance important image features while maintaining spatial information. The class is parameterized by the number of input channels (in_channels) and the number of output channels (out_channels) for the convolutional layers. These building blocks are used both in the contracting and expanding paths of the UNET architecture.\n",
    "\n",
    "The UNET class defines the UNET architecture itself. It takes several arguments, including the number of input channels (in_channels), the number of output channels (out_channels), and a list of feature map sizes (features) that determine the depth of the network. The UNET architecture consists of a downsampling (encoder) path, a bottleneck layer, and an upsampling (decoder) path. The downsampling path repeatedly applies the DoubleConv blocks while reducing spatial dimensions through max-pooling operations. The bottleneck layer further captures abstract features. The upsampling path includes transposed convolutional layers to upsample the feature maps and concatenate them with skip connections from the downsampling path. Finally, a 1x1 convolutional layer is applied to produce the segmentation mask."
   ]
  },
  {
   "cell_type": "code",
   "execution_count": 37,
   "id": "186c08ce-cf94-4ca3-abb3-55c46040b489",
   "metadata": {
    "tags": []
   },
   "outputs": [],
   "source": [
    "class DoubleConv(nn.Module):\n",
    "    def __init__(self, in_channels, out_channels):\n",
    "        super(DoubleConv, self).__init__()\n",
    "        self.conv = nn.Sequential(\n",
    "            nn.Conv2d(in_channels, out_channels, 3, 1, 1, bias=False),\n",
    "            nn.BatchNorm2d(out_channels),\n",
    "            nn.ReLU(inplace=True),\n",
    "            nn.Conv2d(out_channels, out_channels, 3, 1, 1, bias=False),\n",
    "            nn.BatchNorm2d(out_channels),\n",
    "            nn.ReLU(inplace=True),\n",
    "        )\n",
    "\n",
    "    def forward(self, x):\n",
    "        return self.conv(x)\n",
    "\n",
    "class UNET(nn.Module):\n",
    "    def __init__(\n",
    "            self, in_channels=3, out_channels=1, features=[64, 128, 256, 512],\n",
    "    ):\n",
    "        super(UNET, self).__init__()\n",
    "        self.ups = nn.ModuleList()\n",
    "        self.downs = nn.ModuleList()\n",
    "        self.pool = nn.MaxPool2d(kernel_size=2, stride=2)\n",
    "\n",
    "        # Down part of UNET\n",
    "        for feature in features:\n",
    "            self.downs.append(DoubleConv(in_channels, feature))\n",
    "            in_channels = feature\n",
    "\n",
    "        # Up part of UNET\n",
    "        for feature in reversed(features):\n",
    "            self.ups.append(\n",
    "                nn.ConvTranspose2d(\n",
    "                    feature*2, feature, kernel_size=2, stride=2,\n",
    "                )\n",
    "            )\n",
    "            self.ups.append(DoubleConv(feature*2, feature))\n",
    "\n",
    "        self.bottleneck = DoubleConv(features[-1], features[-1]*2)\n",
    "        self.final_conv = nn.Conv2d(features[0], out_channels, kernel_size=1)\n",
    "\n",
    "    def forward(self, x):\n",
    "        skip_connections = []\n",
    "\n",
    "        for down in self.downs:\n",
    "            x = down(x)\n",
    "            skip_connections.append(x)\n",
    "            x = self.pool(x)\n",
    "\n",
    "        x = self.bottleneck(x)\n",
    "        skip_connections = skip_connections[::-1]\n",
    "\n",
    "        for idx in range(0, len(self.ups), 2):\n",
    "            x = self.ups[idx](x)\n",
    "            skip_connection = skip_connections[idx//2]\n",
    "\n",
    "            if x.shape != skip_connection.shape:\n",
    "                x = TF.resize(x, size=skip_connection.shape[2:])\n",
    "\n",
    "            concat_skip = torch.cat((skip_connection, x), dim=1)\n",
    "            x = self.ups[idx+1](concat_skip)\n",
    "\n",
    "        return self.final_conv(x)"
   ]
  },
  {
   "cell_type": "markdown",
   "id": "196f0449-1877-485c-8e4f-48d4f16737b6",
   "metadata": {},
   "source": [
    "### 4. Utility Function Definitions\n",
    "\n",
    "save_checkpoint: This function is used to save the current state of the training process, allowing you to resume training at a later time or use the trained model for inference. The state of the model, along with other necessary parameters, is saved to a file specified by the filename parameter.\r\n",
    "\r\n",
    "state: This is a dictionary containing various elements of the model's state, such as the model parameters, optimizer state, and potentially other relevant information needed to resume training or perform inference.\r\n",
    "filename: The name of the file where the checkpoint will be saved.\r\n",
    "load_checkpoint: This function is used to load a saved checkpoint into a model, restoring its state to continue training or perform inference.\r\n",
    "\r\n",
    "checkpoint: A dictionary containing the saved state of the model.\r\n",
    "model: The neural network model into which the checkpoint will be loaded.\r\n",
    "get_loaders: This function is used to create and return the data loaders for the training and validation datasets.\r\n",
    "\r\n",
    "train_dir, train_maskdir: The directory paths for the training images and their corresponding masks.\r\n",
    "val_dir, val_maskdir: The directory paths for the validation images and their corresponding masks.\r\n",
    "batch_size: The number of samples per batch.\r\n",
    "train_transform, val_transform: Transformations to be applied to the training and validation datasets, respectively.\r\n",
    "num_workers: The number of worker threads to use for data loading.\r\n",
    "pin_memory: If set to True, this will copy Tensors into CUDA pinned memory before returning them, which can result in faster data transfer to CUDA-enabled GPUs.\r\n",
    "The function returns two data loaders: train_loader for the training dataset and val_loader for the validation dataset.\r\n",
    "save_predictions_as_imgs: This function is used to save the model's predictions on a dataset as images to a specified folder.\r\n",
    "\r\n",
    "loader: A DataLoader object providing batches of input data and corresponding ground truth labels.\r\n",
    "model: The neural network model whose predictions will be saved.\r\n",
    "folder: The directory path where the prediction images will be saved.\r\n",
    "device: The device on which the model and data should be loaded before making predictions. Typically this \n",
    "\n",
    "is a CUDA-enabled GPU.\r\n",
    "The model is set to evaluation mode before making predictions, ensuring that certain layers (such as dropout and batch normalization) behave differently during inference compared to training.\r\n",
    "The function saves two sets of images: the model’s predictions and the ground truth masks, allowing for easy comparison between the pred\n",
    "icted and actual values.\r\n",
    "Together, these functions provide utility for training, evaluating, and saving the results of a deep learning model, specifically for image segmentation tasks. The WoundDataset class mentioned in the functions seems to be a custom dataset class for handling images and their corresponding segmentation masks, although its implementation is not provided in the given code snippet."
   ]
  },
  {
   "cell_type": "code",
   "execution_count": 38,
   "id": "baf91cbc-7fe8-4c5f-a9a9-115757b9c94b",
   "metadata": {
    "tags": []
   },
   "outputs": [],
   "source": [
    "def save_checkpoint(state, filename=\"my_checkpoint_large_04lr.pth.tar\"):\n",
    "    print(\"=> Saving checkpoint\")\n",
    "    torch.save(state, filename)\n",
    "\n",
    "def load_checkpoint(checkpoint, model):\n",
    "    print(\"=> Loading checkpoint\")\n",
    "    model.load_state_dict(checkpoint[\"state_dict\"])\n",
    "\n",
    "def get_loaders(\n",
    "    train_dir,\n",
    "    train_maskdir,\n",
    "    val_dir,\n",
    "    val_maskdir,\n",
    "    batch_size,\n",
    "    train_transform,\n",
    "    val_transform,\n",
    "    num_workers=4,\n",
    "    pin_memory=True,\n",
    "):\n",
    "    train_ds = WoundDataset(\n",
    "        image_dir=train_dir,\n",
    "        mask_dir=train_maskdir,\n",
    "        transform=train_transform,\n",
    "        num_images=10,\n",
    "    )\n",
    "\n",
    "    train_loader = DataLoader(\n",
    "        train_ds,\n",
    "        batch_size=batch_size,\n",
    "        num_workers=num_workers,\n",
    "        pin_memory=pin_memory,\n",
    "        shuffle=True,\n",
    "    )\n",
    "\n",
    "    val_ds = WoundDataset(\n",
    "        image_dir=val_dir,\n",
    "        mask_dir=val_maskdir,\n",
    "        transform=val_transform,\n",
    "    )\n",
    "\n",
    "    val_loader = DataLoader(\n",
    "        val_ds,\n",
    "        batch_size=batch_size,\n",
    "        num_workers=num_workers,\n",
    "        pin_memory=pin_memory,\n",
    "        shuffle=False,\n",
    "    )\n",
    "\n",
    "    return train_loader, val_loader\n",
    "\n",
    "def save_predictions_as_imgs(\n",
    "    loader, model, folder=\"central/adam/prediction_images/\", device=\"cuda\"\n",
    "):\n",
    "    model.eval()\n",
    "    for idx, (x, y) in enumerate(loader):\n",
    "        x = x.to(device=device)\n",
    "        with torch.no_grad():\n",
    "            preds = torch.sigmoid(model(x))\n",
    "            preds = (preds > 0.5).float()\n",
    "        torchvision.utils.save_image(\n",
    "            preds, f\"{folder}/pred_{idx}.png\"\n",
    "        )\n",
    "        torchvision.utils.save_image(y.unsqueeze(1), f\"{folder}{idx}.png\")\n",
    "\n",
    "    model.train()"
   ]
  },
  {
   "cell_type": "markdown",
   "id": "87847413-2d8a-4aff-a051-884efb305873",
   "metadata": {},
   "source": [
    "### 5. Train & Validation Function Definitions\n",
    "\r\n",
    "confusion_matrix(preds, y):\r\n",
    "This function calculates the confusion matrix values, including true positives (tp), false positives (fp), false negatives (fn), and true negatives (tn), given the model's predictions (preds) and ground truth labels (y). These values are essential for evaluating binary classification performance.\r\n",
    "\r\n",
    "validate_model(loader, model, device=\"cuda\"):\r\n",
    "This function evaluates the model's performance on a given data loader (loader) in validation mode. It calculates various metrics such as loss, accuracy, Dice score, IoU (Intersection over Union) score, and confusion matrix values for binary segmentation. It also tracks the total number of correct pixels and total pixels processed during evaluation.\r\n",
    "\r\n",
    "train_model(loader, model, optimizer, loss_fn, scaler):\r\n",
    "This function is responsible for training the model on a provided data loader (loader). It iterates through the data in batches, computes predictions, calculates the loss using a specified loss function (loss_fn), and updates the model's weights through backpropagation. It uses gradient scaling with torch.cuda.amp.autocast() to handle mixed-precision training when applicable. Additionally, it reduces the learning rate on a plateau using a learning rate scheduler (optim.lr_scheduler.ReduceLROnPlateau)."
   ]
  },
  {
   "cell_type": "code",
   "execution_count": 39,
   "id": "222f4a22-a5f6-4b14-8cfe-12861667251e",
   "metadata": {
    "tags": []
   },
   "outputs": [],
   "source": [
    "def confusion_matrix(preds, y):\n",
    "    tp = ((preds == 1) & (y == 1)).sum()\n",
    "    fp = ((preds == 1) & (y == 0)).sum()\n",
    "    fn = ((preds == 0) & (y == 1)).sum()\n",
    "    tn = ((preds == 0) & (y == 0)).sum()\n",
    "\n",
    "    return tn, fp, fn, tp\n",
    "\n",
    "def validate_model(loader, model, criterion, device=\"cuda\"):\n",
    "    \"\"\"Test the network on the training set.\"\"\"\n",
    "    print(\"~~~~ In test ~~~~\")\n",
    "    #criterion = nn.BCEWithLogitsLoss()\n",
    "    loss = 0\n",
    "    num_correct = 0\n",
    "    num_pixels = 0\n",
    "    dice_score = 0\n",
    "    iou_score  = 0\n",
    "    tn_sum = fp_sum = fn_sum = tp_sum = 0\n",
    "    model.eval()\n",
    "\n",
    "    with torch.no_grad():\n",
    "        for x, y in loader:\n",
    "            x = x.to(device)\n",
    "            y = y.to(device).unsqueeze(1)\n",
    "            preds = torch.sigmoid(model(x))\n",
    "            loss += criterion(preds, y).item()\n",
    "            preds = (preds > 0.5).float()\n",
    "            tn, fp, fn, tp = confusion_matrix(preds, y)\n",
    "            tn_sum += tn\n",
    "            fp_sum += fp\n",
    "            fn_sum += fn\n",
    "            tp_sum += tp\n",
    "            num_correct += (preds == y).sum()\n",
    "            num_pixels += torch.numel(preds)\n",
    "            dice_score += (2 * (preds * y).sum()) / (\n",
    "                (preds.sum() + y.sum()) + 1e-8\n",
    "            )\n",
    "            intersection = (preds * y).sum()\n",
    "            union = (preds + y).sum() - intersection\n",
    "            iou_score += (intersection + 1e-8) / (union + 1e-8)\n",
    "\n",
    "    num_batches = len(loader)\n",
    "    loss /= num_batches\n",
    "    acc = num_correct/num_pixels*100\n",
    "    diceS = dice_score/num_batches\n",
    "    iouS = iou_score/num_batches\n",
    "    correct_pixel = num_correct\n",
    "    total_pixel = num_pixels\n",
    "    print(f\"Loss = {loss}\")\n",
    "    print(f\"IoU Score = {iouS}\")\n",
    "    print(f\"Dice Score = {diceS}\")\n",
    "    print(\"~~~~~ Out of test ~~~~~\")\n",
    "\n",
    "    model.train()\n",
    "    \n",
    "    result = [acc.item(), diceS.item(), iouS.item(), loss, correct_pixel.item(), total_pixel, tn_sum.item(), fp_sum.item(), fn_sum.item(), tp_sum.item()]\n",
    "    \n",
    "    return result\n",
    "\n",
    "def train_model(loader, model, optimizer, loss_fn, scaler):\n",
    "    print(\"In Train\")\n",
    "    print(f'length of loader {len(loader)}')\n",
    "    model.train()\n",
    "    loop = tqdm(loader)\n",
    "    #scheduler =  optim.lr_scheduler.ReduceLROnPlateau(optimizer, factor=0.1, patience=5, verbose=True)\n",
    "\n",
    "    for batch_idx, (data, targets) in enumerate(loop):\n",
    "        data = data.to(device=DEVICE)\n",
    "        targets = targets.float().unsqueeze(1).to(device=DEVICE)\n",
    "        # forward\n",
    "        with torch.cuda.amp.autocast():\n",
    "            predictions = model(data)\n",
    "            loss = loss_fn(predictions, targets)\n",
    "        # backward\n",
    "        optimizer.zero_grad()\n",
    "        scaler.scale(loss).backward()\n",
    "        scaler.step(optimizer)\n",
    "        scaler.update()\n",
    "\n",
    "        # update tqdm loop\n",
    "        loop.set_postfix(loss=loss.item())\n",
    "    #scheduler.step(loss)\n",
    "\n",
    "    print(\"Out of Train\")"
   ]
  },
  {
   "cell_type": "code",
   "execution_count": 40,
   "id": "b99646a3-8f9a-4f22-bd3b-5a6d9dd880a8",
   "metadata": {},
   "outputs": [],
   "source": [
    "# BATCH_SIZE = 2\n",
    "# NUM_EPOCHS = 500\n",
    "# NUM_WORKERS = 0\n",
    "# IMAGE_HEIGHT = 140 \n",
    "# IMAGE_WIDTH = 140  "
   ]
  },
  {
   "cell_type": "markdown",
   "id": "e476b0ed-112b-4adf-88f4-c4fa9cb5585b",
   "metadata": {},
   "source": [
    "### 6. Define Hyperparameters and dataframe"
   ]
  },
  {
   "cell_type": "code",
   "execution_count": 41,
   "id": "96e5c93e-4763-4046-b325-f2f76e9deacc",
   "metadata": {
    "tags": []
   },
   "outputs": [],
   "source": [
    "column_names = {'epoch':[]\n",
    "            , 'accuracy':[]\n",
    "            , 'dice_score':[]\n",
    "            , 'IoU_score':[]\n",
    "            , 'Loss': []\n",
    "            , 'correct_pixels':[]\n",
    "            , 'total_pixel':[]\n",
    "            , 'tn': []\n",
    "            , 'fp': []\n",
    "            , 'fn': []\n",
    "            , 'tp': []\n",
    "            , 'lr': []}\n",
    "\n",
    "labels = [\"Accuracy\", \"Dice Score\", \"IOU\", \"Loss\", \"Correct Pixel\", \"Total Pixel\", \"tn\", \"fp\", \"fn\", \"tp\",\"lr\"]\n",
    "\n",
    "# run a loop to test various VS, LR, and Image sizes\n",
    "BATCH_SIZES = [25, 4, 6, 8, 10, 12, 15, 20, 25, 30]\n",
    "learning_rates = [0.00001, 0.00001, 0.000001]\n",
    "imageSize = [140, 240, 512]\n",
    "\n",
    "DEVICE = \"cuda\" if torch.cuda.is_available() else \"cpu\"\n",
    "PIN_MEMORY = True\n",
    "LOAD_MODEL = False\n",
    "# define address for your training and val data \n",
    "TRAIN_IMG_DIR = \"../../wound_data/data/woundData/train_images\"\n",
    "TRAIN_MASK_DIR = \"../../wound_data/data/woundData/train_masks\"\n",
    "VAL_IMG_DIR = \"../../wound_data/data/woundData/val_images\"\n",
    "VAL_MASK_DIR = \"../../wound_data/data/woundData/val_masks\""
   ]
  },
  {
   "cell_type": "code",
   "execution_count": 42,
   "id": "68f97eec-66ef-4ef5-9260-d21cff444805",
   "metadata": {
    "tags": []
   },
   "outputs": [
    {
     "name": "stdout",
     "output_type": "stream",
     "text": [
      "cuda\n"
     ]
    }
   ],
   "source": [
    "print(DEVICE)"
   ]
  },
  {
   "cell_type": "markdown",
   "id": "0f7fb764-5675-4dc0-9a34-f9c5202124bc",
   "metadata": {},
   "source": [
    "### 7. Set optimizer"
   ]
  },
  {
   "cell_type": "code",
   "execution_count": 43,
   "id": "71961ed7-1a05-4be5-8b0b-6e66c6a768db",
   "metadata": {},
   "outputs": [],
   "source": [
    "optim_flag = \"adam\"\n",
    "#optim_flag = \"sgd\""
   ]
  },
  {
   "cell_type": "markdown",
   "id": "692f07fd-14cc-4d50-ab44-8804a4811afa",
   "metadata": {},
   "source": [
    "### 8. Image tranform functions\n",
    "\n",
    "##### train_transform:\n",
    "\n",
    "This transformation pipeline is designed for augmenting and preprocessing images in the training dataset. It includes several operations:\n",
    "A.Resize: Resizes the input images to a specified height and width (IMAGE_HEIGHT and IMAGE_WIDTH), ensuring that all training images have consistent dimensions.\n",
    "A.Rotate: Randomly rotates the images within a specified limit (35 degrees in this case) to increase the diversity of training samples. This helps the model generalize better to different orientations of objects in the images.\n",
    "A.HorizontalFlip: Randomly flips images horizontally with a probability of 0.5. This operation simulates variations in object orientation, contributing to better model robustness.\n",
    "A.VerticalFlip: Randomly flips images vertically with a lower probability (0.1). It introduces additional variability by considering vertical reflections of objects.\n",
    "A.Normalize: Standardizes pixel values by subtracting the mean and dividing by the standard deviation. In this case, it centers the data around zero with unit variance. The max_pixel_value parameter ensures that pixel values are in the [0, 1] range.\n",
    "ToTensorV2: Converts the image and mask data into PyTorch tensors, making them compatible with the model's input format.\n",
    "\n",
    "##### val_transforms:\n",
    "\n",
    "This transformation pipeline is intended for preprocessing images in the validation dataset. It includes:\n",
    "A.Resize: Resizes the validation images to the same height and width as specified for the training images, ensuring consistent dimensions between the training and validation datasets.\n",
    "A.Normalize: Performs the same pixel value normalization as in the training transform. However, it doesn't include data augmentation operations like rotation or flips, as the goal of validation is to evaluate the model's performance on unaltered data.\n",
    "\n",
    "### 9. Training our Model\n",
    "\n",
    "Hyperparameter Exploration Loop: The code defines a loop that iterates over different batch sizes and image sizes. Inside this loop, it reconfigures the batch size and image dimensions according to the current iteration. This allows for a systematic exploration of how these hyperparameters affect model training and evaluation.\n",
    "\n",
    "Training and Evaluation: For each combination of batch size and image size, the code sets up data loaders, model, loss function, optimizer, and other training-related components. It then performs the following steps:\n",
    "\n",
    "Validates the model on the validation dataset to record initial performance metrics.\n",
    "Conducts training for a specified number of epochs, saving model checkpoints and recording training metrics (e.g., accuracy, dice score, IoU) for each epoch.\n",
    "Appends the results of each epoch to a DataFrame, allowing for easy tracking and analysis of training progress.\n",
    "Saves the DataFrame as a CSV file, preserving the training and evaluation results for later analysis."
   ]
  },
  {
   "cell_type": "code",
   "execution_count": null,
   "id": "a1cc8119-d1f2-4949-b731-ba34a5207b0f",
   "metadata": {
    "tags": []
   },
   "outputs": [
    {
     "name": "stdout",
     "output_type": "stream",
     "text": [
      "check point\n",
      "central/adam/checkpoint2/adam_checkpoint_imgSize512_bs25_lr1e-05.pth.tar\n",
      "~~~~ In test ~~~~\n",
      "Loss = 0.9794842302799225\n",
      "IoU Score = 0.013535327278077602\n",
      "Dice Score = 0.026697829365730286\n",
      "~~~~~ Out of test ~~~~~\n",
      "length of train loader -> 1\n",
      "First Check - Before training starts\n",
      "Accuracy: 1.3535326719284058\n",
      "Dice Score: 0.026697829365730286\n",
      "IOU: 0.013535327278077602\n",
      "Loss: 0.9794842302799225\n",
      "Correct Pixel: 709641\n",
      "Total Pixel: 52428800\n",
      "tn: 0\n",
      "fp: 51719159\n",
      "fn: 0\n",
      "tp: 709641\n",
      "In Train\n",
      "length of loader 1\n"
     ]
    },
    {
     "name": "stderr",
     "output_type": "stream",
     "text": [
      "100%|██████████| 1/1 [00:00<00:00,  2.56it/s, loss=0.681]\n"
     ]
    },
    {
     "name": "stdout",
     "output_type": "stream",
     "text": [
      "Out of Train\n",
      "=> Saving checkpoint\n",
      "checkpoint saved\n",
      "~~~~ In test ~~~~\n",
      "Loss = 0.9790377840399742\n",
      "IoU Score = 0.013535327278077602\n",
      "Dice Score = 0.026697829365730286\n",
      "~~~~~ Out of test ~~~~~\n",
      "In Train\n",
      "length of loader 1\n"
     ]
    },
    {
     "name": "stderr",
     "output_type": "stream",
     "text": [
      "100%|██████████| 1/1 [00:00<00:00,  2.54it/s, loss=0.674]\n"
     ]
    },
    {
     "name": "stdout",
     "output_type": "stream",
     "text": [
      "Out of Train\n",
      "=> Saving checkpoint\n",
      "checkpoint saved\n",
      "~~~~ In test ~~~~\n",
      "Loss = 0.9783892333507538\n",
      "IoU Score = 0.013535327278077602\n",
      "Dice Score = 0.026697829365730286\n",
      "~~~~~ Out of test ~~~~~\n",
      "In Train\n",
      "length of loader 1\n"
     ]
    },
    {
     "name": "stderr",
     "output_type": "stream",
     "text": [
      "100%|██████████| 1/1 [00:00<00:00,  2.54it/s, loss=0.667]\n"
     ]
    },
    {
     "name": "stdout",
     "output_type": "stream",
     "text": [
      "Out of Train\n",
      "=> Saving checkpoint\n",
      "checkpoint saved\n",
      "~~~~ In test ~~~~\n",
      "Loss = 0.9778299108147621\n",
      "IoU Score = 0.013535327278077602\n",
      "Dice Score = 0.026697829365730286\n",
      "~~~~~ Out of test ~~~~~\n",
      "In Train\n",
      "length of loader 1\n"
     ]
    },
    {
     "name": "stderr",
     "output_type": "stream",
     "text": [
      "100%|██████████| 1/1 [00:00<00:00,  2.56it/s, loss=0.663]\n"
     ]
    },
    {
     "name": "stdout",
     "output_type": "stream",
     "text": [
      "Out of Train\n",
      "=> Saving checkpoint\n",
      "checkpoint saved\n",
      "~~~~ In test ~~~~\n",
      "Loss = 0.9772997871041298\n",
      "IoU Score = 0.013535327278077602\n",
      "Dice Score = 0.026697829365730286\n",
      "~~~~~ Out of test ~~~~~\n",
      "In Train\n",
      "length of loader 1\n"
     ]
    },
    {
     "name": "stderr",
     "output_type": "stream",
     "text": [
      "100%|██████████| 1/1 [00:00<00:00,  2.54it/s, loss=0.657]\n"
     ]
    },
    {
     "name": "stdout",
     "output_type": "stream",
     "text": [
      "Out of Train\n",
      "=> Saving checkpoint\n",
      "checkpoint saved\n",
      "~~~~ In test ~~~~\n",
      "Loss = 0.9767566695809364\n",
      "IoU Score = 0.013535327278077602\n",
      "Dice Score = 0.026697829365730286\n",
      "~~~~~ Out of test ~~~~~\n",
      "In Train\n",
      "length of loader 1\n"
     ]
    },
    {
     "name": "stderr",
     "output_type": "stream",
     "text": [
      "100%|██████████| 1/1 [00:00<00:00,  2.54it/s, loss=0.653]\n"
     ]
    },
    {
     "name": "stdout",
     "output_type": "stream",
     "text": [
      "Out of Train\n",
      "=> Saving checkpoint\n",
      "checkpoint saved\n",
      "~~~~ In test ~~~~\n",
      "Loss = 0.9761912524700165\n",
      "IoU Score = 0.013535327278077602\n",
      "Dice Score = 0.026697829365730286\n",
      "~~~~~ Out of test ~~~~~\n",
      "In Train\n",
      "length of loader 1\n"
     ]
    },
    {
     "name": "stderr",
     "output_type": "stream",
     "text": [
      "100%|██████████| 1/1 [00:00<00:00,  2.55it/s, loss=0.649]\n"
     ]
    },
    {
     "name": "stdout",
     "output_type": "stream",
     "text": [
      "Out of Train\n",
      "=> Saving checkpoint\n",
      "checkpoint saved\n",
      "~~~~ In test ~~~~\n",
      "Loss = 0.9756380543112755\n",
      "IoU Score = 0.013535327278077602\n",
      "Dice Score = 0.026697829365730286\n",
      "~~~~~ Out of test ~~~~~\n",
      "In Train\n",
      "length of loader 1\n"
     ]
    },
    {
     "name": "stderr",
     "output_type": "stream",
     "text": [
      "100%|██████████| 1/1 [00:00<00:00,  2.52it/s, loss=0.644]\n"
     ]
    },
    {
     "name": "stdout",
     "output_type": "stream",
     "text": [
      "Out of Train\n",
      "=> Saving checkpoint\n",
      "checkpoint saved\n",
      "~~~~ In test ~~~~\n",
      "Loss = 0.975067749619484\n",
      "IoU Score = 0.013535327278077602\n",
      "Dice Score = 0.026697829365730286\n",
      "~~~~~ Out of test ~~~~~\n",
      "In Train\n",
      "length of loader 1\n"
     ]
    },
    {
     "name": "stderr",
     "output_type": "stream",
     "text": [
      "100%|██████████| 1/1 [00:00<00:00,  2.57it/s, loss=0.641]\n"
     ]
    },
    {
     "name": "stdout",
     "output_type": "stream",
     "text": [
      "Out of Train\n",
      "=> Saving checkpoint\n",
      "checkpoint saved\n",
      "~~~~ In test ~~~~\n",
      "Loss = 0.9744873642921448\n",
      "IoU Score = 0.013535327278077602\n",
      "Dice Score = 0.026697829365730286\n",
      "~~~~~ Out of test ~~~~~\n",
      "In Train\n",
      "length of loader 1\n"
     ]
    },
    {
     "name": "stderr",
     "output_type": "stream",
     "text": [
      "100%|██████████| 1/1 [00:00<00:00,  2.54it/s, loss=0.638]\n"
     ]
    },
    {
     "name": "stdout",
     "output_type": "stream",
     "text": [
      "Out of Train\n",
      "=> Saving checkpoint\n",
      "checkpoint saved\n",
      "~~~~ In test ~~~~\n",
      "Loss = 0.9738995730876923\n",
      "IoU Score = 0.013535329140722752\n",
      "Dice Score = 0.026697831228375435\n",
      "~~~~~ Out of test ~~~~~\n",
      "In Train\n",
      "length of loader 1\n"
     ]
    },
    {
     "name": "stderr",
     "output_type": "stream",
     "text": [
      "100%|██████████| 1/1 [00:00<00:00,  2.56it/s, loss=0.634]\n"
     ]
    },
    {
     "name": "stdout",
     "output_type": "stream",
     "text": [
      "Out of Train\n",
      "=> Saving checkpoint\n",
      "checkpoint saved\n",
      "~~~~ In test ~~~~\n",
      "Loss = 0.9733052402734756\n",
      "IoU Score = 0.013537948951125145\n",
      "Dice Score = 0.026702921837568283\n",
      "~~~~~ Out of test ~~~~~\n",
      "In Train\n",
      "length of loader 1\n"
     ]
    },
    {
     "name": "stderr",
     "output_type": "stream",
     "text": [
      "100%|██████████| 1/1 [00:00<00:00,  2.57it/s, loss=0.631]\n"
     ]
    },
    {
     "name": "stdout",
     "output_type": "stream",
     "text": [
      "Out of Train\n",
      "=> Saving checkpoint\n",
      "checkpoint saved\n",
      "~~~~ In test ~~~~\n",
      "Loss = 0.9726879969239235\n",
      "IoU Score = 0.013525620102882385\n",
      "Dice Score = 0.026678893715143204\n",
      "~~~~~ Out of test ~~~~~\n",
      "In Train\n",
      "length of loader 1\n"
     ]
    },
    {
     "name": "stderr",
     "output_type": "stream",
     "text": [
      "100%|██████████| 1/1 [00:00<00:00,  2.58it/s, loss=0.628]\n"
     ]
    },
    {
     "name": "stdout",
     "output_type": "stream",
     "text": [
      "Out of Train\n",
      "=> Saving checkpoint\n",
      "checkpoint saved\n",
      "~~~~ In test ~~~~\n",
      "Loss = 0.9720675200223923\n",
      "IoU Score = 0.013286398723721504\n",
      "Dice Score = 0.02621331997215748\n",
      "~~~~~ Out of test ~~~~~\n",
      "In Train\n",
      "length of loader 1\n"
     ]
    },
    {
     "name": "stderr",
     "output_type": "stream",
     "text": [
      "100%|██████████| 1/1 [00:00<00:00,  2.54it/s, loss=0.625]\n"
     ]
    },
    {
     "name": "stdout",
     "output_type": "stream",
     "text": [
      "Out of Train\n",
      "=> Saving checkpoint\n",
      "checkpoint saved\n",
      "~~~~ In test ~~~~\n",
      "Loss = 0.9713700115680695\n",
      "IoU Score = 0.012984818778932095\n",
      "Dice Score = 0.025625957176089287\n",
      "~~~~~ Out of test ~~~~~\n",
      "In Train\n",
      "length of loader 1\n"
     ]
    },
    {
     "name": "stderr",
     "output_type": "stream",
     "text": [
      "100%|██████████| 1/1 [00:00<00:00,  2.57it/s, loss=0.623]\n"
     ]
    },
    {
     "name": "stdout",
     "output_type": "stream",
     "text": [
      "Out of Train\n",
      "=> Saving checkpoint\n",
      "checkpoint saved\n",
      "~~~~ In test ~~~~\n",
      "Loss = 0.970635324716568\n",
      "IoU Score = 0.012457589618861675\n",
      "Dice Score = 0.024597208946943283\n",
      "~~~~~ Out of test ~~~~~\n",
      "In Train\n",
      "length of loader 1\n"
     ]
    },
    {
     "name": "stderr",
     "output_type": "stream",
     "text": [
      "100%|██████████| 1/1 [00:00<00:00,  2.58it/s, loss=0.621]\n"
     ]
    },
    {
     "name": "stdout",
     "output_type": "stream",
     "text": [
      "Out of Train\n",
      "=> Saving checkpoint\n",
      "checkpoint saved\n",
      "~~~~ In test ~~~~\n",
      "Loss = 0.9698694497346878\n",
      "IoU Score = 0.012231037020683289\n",
      "Dice Score = 0.024150850251317024\n",
      "~~~~~ Out of test ~~~~~\n",
      "In Train\n",
      "length of loader 1\n"
     ]
    },
    {
     "name": "stderr",
     "output_type": "stream",
     "text": [
      "100%|██████████| 1/1 [00:00<00:00,  2.55it/s, loss=0.618]\n"
     ]
    },
    {
     "name": "stdout",
     "output_type": "stream",
     "text": [
      "Out of Train\n",
      "=> Saving checkpoint\n",
      "checkpoint saved\n",
      "~~~~ In test ~~~~\n",
      "Loss = 0.9690703675150871\n",
      "IoU Score = 0.01108631119132042\n",
      "Dice Score = 0.021911386400461197\n",
      "~~~~~ Out of test ~~~~~\n",
      "In Train\n",
      "length of loader 1\n"
     ]
    },
    {
     "name": "stderr",
     "output_type": "stream",
     "text": [
      "100%|██████████| 1/1 [00:00<00:00,  2.57it/s, loss=0.616]\n"
     ]
    },
    {
     "name": "stdout",
     "output_type": "stream",
     "text": [
      "Out of Train\n",
      "=> Saving checkpoint\n",
      "checkpoint saved\n",
      "~~~~ In test ~~~~\n",
      "Loss = 0.9681756868958473\n",
      "IoU Score = 0.009271693415939808\n",
      "Dice Score = 0.01835811883211136\n",
      "~~~~~ Out of test ~~~~~\n",
      "In Train\n",
      "length of loader 1\n"
     ]
    },
    {
     "name": "stderr",
     "output_type": "stream",
     "text": [
      "100%|██████████| 1/1 [00:00<00:00,  2.56it/s, loss=0.613]\n"
     ]
    },
    {
     "name": "stdout",
     "output_type": "stream",
     "text": [
      "Out of Train\n",
      "=> Saving checkpoint\n",
      "checkpoint saved\n",
      "~~~~ In test ~~~~\n",
      "Loss = 0.967182531952858\n",
      "IoU Score = 0.007027402054518461\n",
      "Dice Score = 0.01394898071885109\n",
      "~~~~~ Out of test ~~~~~\n",
      "In Train\n",
      "length of loader 1\n"
     ]
    },
    {
     "name": "stderr",
     "output_type": "stream",
     "text": [
      "100%|██████████| 1/1 [00:00<00:00,  2.56it/s, loss=0.611]\n"
     ]
    },
    {
     "name": "stdout",
     "output_type": "stream",
     "text": [
      "Out of Train\n",
      "=> Saving checkpoint\n",
      "checkpoint saved\n",
      "~~~~ In test ~~~~\n",
      "Loss = 0.9660521075129509\n",
      "IoU Score = 0.005176149774342775\n",
      "Dice Score = 0.010295233689248562\n",
      "~~~~~ Out of test ~~~~~\n",
      "In Train\n",
      "length of loader 1\n"
     ]
    },
    {
     "name": "stderr",
     "output_type": "stream",
     "text": [
      "100%|██████████| 1/1 [00:00<00:00,  2.57it/s, loss=0.609]\n"
     ]
    },
    {
     "name": "stdout",
     "output_type": "stream",
     "text": [
      "Out of Train\n",
      "=> Saving checkpoint\n",
      "checkpoint saved\n",
      "~~~~ In test ~~~~\n",
      "Loss = 0.9647854715585709\n",
      "IoU Score = 0.0034132942091673613\n",
      "Dice Score = 0.006801271811127663\n",
      "~~~~~ Out of test ~~~~~\n",
      "In Train\n",
      "length of loader 1\n"
     ]
    },
    {
     "name": "stderr",
     "output_type": "stream",
     "text": [
      "100%|██████████| 1/1 [00:00<00:00,  2.51it/s, loss=0.607]\n"
     ]
    },
    {
     "name": "stdout",
     "output_type": "stream",
     "text": [
      "Out of Train\n",
      "=> Saving checkpoint\n",
      "checkpoint saved\n",
      "~~~~ In test ~~~~\n",
      "Loss = 0.9634160548448563\n",
      "IoU Score = 0.0023896191269159317\n",
      "Dice Score = 0.00476636691018939\n",
      "~~~~~ Out of test ~~~~~\n",
      "In Train\n",
      "length of loader 1\n"
     ]
    },
    {
     "name": "stderr",
     "output_type": "stream",
     "text": [
      "100%|██████████| 1/1 [00:00<00:00,  2.55it/s, loss=0.605]\n"
     ]
    },
    {
     "name": "stdout",
     "output_type": "stream",
     "text": [
      "Out of Train\n",
      "=> Saving checkpoint\n",
      "checkpoint saved\n",
      "~~~~ In test ~~~~\n",
      "Loss = 0.9618896245956421\n",
      "IoU Score = 0.0017534528160467744\n",
      "Dice Score = 0.003499726066365838\n",
      "~~~~~ Out of test ~~~~~\n",
      "In Train\n",
      "length of loader 1\n"
     ]
    },
    {
     "name": "stderr",
     "output_type": "stream",
     "text": [
      "100%|██████████| 1/1 [00:00<00:00,  2.57it/s, loss=0.602]\n"
     ]
    },
    {
     "name": "stdout",
     "output_type": "stream",
     "text": [
      "Out of Train\n",
      "=> Saving checkpoint\n",
      "checkpoint saved\n",
      "~~~~ In test ~~~~\n",
      "Loss = 0.9602371826767921\n",
      "IoU Score = 0.0018011681968346238\n",
      "Dice Score = 0.0035946094430983067\n",
      "~~~~~ Out of test ~~~~~\n",
      "In Train\n",
      "length of loader 1\n"
     ]
    },
    {
     "name": "stderr",
     "output_type": "stream",
     "text": [
      "100%|██████████| 1/1 [00:00<00:00,  2.57it/s, loss=0.601]\n"
     ]
    },
    {
     "name": "stdout",
     "output_type": "stream",
     "text": [
      "Out of Train\n",
      "=> Saving checkpoint\n",
      "checkpoint saved\n",
      "~~~~ In test ~~~~\n",
      "Loss = 0.958525188267231\n",
      "IoU Score = 0.0017869806615635753\n",
      "Dice Score = 0.003566395491361618\n",
      "~~~~~ Out of test ~~~~~\n",
      "In Train\n",
      "length of loader 1\n"
     ]
    },
    {
     "name": "stderr",
     "output_type": "stream",
     "text": [
      "100%|██████████| 1/1 [00:00<00:00,  2.56it/s, loss=0.598]\n"
     ]
    },
    {
     "name": "stdout",
     "output_type": "stream",
     "text": [
      "Out of Train\n",
      "=> Saving checkpoint\n",
      "checkpoint saved\n",
      "~~~~ In test ~~~~\n",
      "Loss = 0.9566878229379654\n",
      "IoU Score = 0.0025693888310343027\n",
      "Dice Score = 0.005123402923345566\n",
      "~~~~~ Out of test ~~~~~\n",
      "In Train\n",
      "length of loader 1\n"
     ]
    },
    {
     "name": "stderr",
     "output_type": "stream",
     "text": [
      "100%|██████████| 1/1 [00:00<00:00,  2.58it/s, loss=0.596]\n"
     ]
    },
    {
     "name": "stdout",
     "output_type": "stream",
     "text": [
      "Out of Train\n",
      "=> Saving checkpoint\n",
      "checkpoint saved\n",
      "~~~~ In test ~~~~\n",
      "Loss = 0.9547292664647102\n",
      "IoU Score = 0.0038051032461225986\n",
      "Dice Score = 0.007577454671263695\n",
      "~~~~~ Out of test ~~~~~\n",
      "In Train\n",
      "length of loader 1\n"
     ]
    },
    {
     "name": "stderr",
     "output_type": "stream",
     "text": [
      "100%|██████████| 1/1 [00:00<00:00,  2.55it/s, loss=0.596]\n"
     ]
    },
    {
     "name": "stdout",
     "output_type": "stream",
     "text": [
      "Out of Train\n",
      "=> Saving checkpoint\n",
      "checkpoint saved\n",
      "~~~~ In test ~~~~\n",
      "Loss = 0.9528000354766846\n",
      "IoU Score = 0.0055815428495407104\n",
      "Dice Score = 0.01109369471669197\n",
      "~~~~~ Out of test ~~~~~\n",
      "In Train\n",
      "length of loader 1\n"
     ]
    },
    {
     "name": "stderr",
     "output_type": "stream",
     "text": [
      "100%|██████████| 1/1 [00:00<00:00,  2.55it/s, loss=0.592]\n"
     ]
    },
    {
     "name": "stdout",
     "output_type": "stream",
     "text": [
      "Out of Train\n",
      "=> Saving checkpoint\n",
      "checkpoint saved\n",
      "~~~~ In test ~~~~\n",
      "Loss = 0.9507934674620628\n",
      "IoU Score = 0.007348200306296349\n",
      "Dice Score = 0.014576362445950508\n",
      "~~~~~ Out of test ~~~~~\n",
      "In Train\n",
      "length of loader 1\n"
     ]
    },
    {
     "name": "stderr",
     "output_type": "stream",
     "text": [
      "100%|██████████| 1/1 [00:00<00:00,  2.53it/s, loss=0.591]\n"
     ]
    },
    {
     "name": "stdout",
     "output_type": "stream",
     "text": [
      "Out of Train\n",
      "=> Saving checkpoint\n",
      "checkpoint saved\n",
      "~~~~ In test ~~~~\n",
      "Loss = 0.948799230158329\n",
      "IoU Score = 0.009382030926644802\n",
      "Dice Score = 0.01856531761586666\n",
      "~~~~~ Out of test ~~~~~\n",
      "In Train\n",
      "length of loader 1\n"
     ]
    },
    {
     "name": "stderr",
     "output_type": "stream",
     "text": [
      "100%|██████████| 1/1 [00:00<00:00,  2.56it/s, loss=0.591]\n"
     ]
    },
    {
     "name": "stdout",
     "output_type": "stream",
     "text": [
      "Out of Train\n",
      "=> Saving checkpoint\n",
      "checkpoint saved\n",
      "~~~~ In test ~~~~\n",
      "Loss = 0.9469756335020065\n",
      "IoU Score = 0.011532304808497429\n",
      "Dice Score = 0.022754084318876266\n",
      "~~~~~ Out of test ~~~~~\n",
      "In Train\n",
      "length of loader 1\n"
     ]
    },
    {
     "name": "stderr",
     "output_type": "stream",
     "text": [
      "100%|██████████| 1/1 [00:00<00:00,  2.55it/s, loss=0.588]\n"
     ]
    },
    {
     "name": "stdout",
     "output_type": "stream",
     "text": [
      "Out of Train\n",
      "=> Saving checkpoint\n",
      "checkpoint saved\n",
      "~~~~ In test ~~~~\n",
      "Loss = 0.9450760334730148\n",
      "IoU Score = 0.014020655304193497\n",
      "Dice Score = 0.027563799172639847\n",
      "~~~~~ Out of test ~~~~~\n",
      "In Train\n",
      "length of loader 1\n"
     ]
    },
    {
     "name": "stderr",
     "output_type": "stream",
     "text": [
      "100%|██████████| 1/1 [00:00<00:00,  2.55it/s, loss=0.585]\n"
     ]
    },
    {
     "name": "stdout",
     "output_type": "stream",
     "text": [
      "Out of Train\n",
      "=> Saving checkpoint\n",
      "checkpoint saved\n",
      "~~~~ In test ~~~~\n",
      "Loss = 0.9432102888822556\n",
      "IoU Score = 0.017080655321478844\n",
      "Dice Score = 0.033421993255615234\n",
      "~~~~~ Out of test ~~~~~\n",
      "In Train\n",
      "length of loader 1\n"
     ]
    },
    {
     "name": "stderr",
     "output_type": "stream",
     "text": [
      "100%|██████████| 1/1 [00:00<00:00,  2.56it/s, loss=0.584]\n"
     ]
    },
    {
     "name": "stdout",
     "output_type": "stream",
     "text": [
      "Out of Train\n",
      "=> Saving checkpoint\n",
      "checkpoint saved\n",
      "~~~~ In test ~~~~\n",
      "Loss = 0.9412967711687088\n",
      "IoU Score = 0.020341115072369576\n",
      "Dice Score = 0.03959226608276367\n",
      "~~~~~ Out of test ~~~~~\n",
      "In Train\n",
      "length of loader 1\n"
     ]
    },
    {
     "name": "stderr",
     "output_type": "stream",
     "text": [
      "100%|██████████| 1/1 [00:00<00:00,  2.57it/s, loss=0.582]\n"
     ]
    },
    {
     "name": "stdout",
     "output_type": "stream",
     "text": [
      "Out of Train\n",
      "=> Saving checkpoint\n",
      "checkpoint saved\n",
      "~~~~ In test ~~~~\n",
      "Loss = 0.9395338073372841\n",
      "IoU Score = 0.023828504607081413\n",
      "Dice Score = 0.046116676181554794\n",
      "~~~~~ Out of test ~~~~~\n",
      "In Train\n",
      "length of loader 1\n"
     ]
    },
    {
     "name": "stderr",
     "output_type": "stream",
     "text": [
      "100%|██████████| 1/1 [00:00<00:00,  2.57it/s, loss=0.58]\n"
     ]
    },
    {
     "name": "stdout",
     "output_type": "stream",
     "text": [
      "Out of Train\n",
      "=> Saving checkpoint\n",
      "checkpoint saved\n",
      "~~~~ In test ~~~~\n",
      "Loss = 0.93791813403368\n",
      "IoU Score = 0.028155826032161713\n",
      "Dice Score = 0.05413002520799637\n",
      "~~~~~ Out of test ~~~~~\n",
      "In Train\n",
      "length of loader 1\n"
     ]
    },
    {
     "name": "stderr",
     "output_type": "stream",
     "text": [
      "100%|██████████| 1/1 [00:00<00:00,  2.55it/s, loss=0.578]\n"
     ]
    },
    {
     "name": "stdout",
     "output_type": "stream",
     "text": [
      "Out of Train\n",
      "=> Saving checkpoint\n",
      "checkpoint saved\n",
      "~~~~ In test ~~~~\n",
      "Loss = 0.9364640489220619\n",
      "IoU Score = 0.03257603198289871\n",
      "Dice Score = 0.06221175193786621\n",
      "~~~~~ Out of test ~~~~~\n",
      "In Train\n",
      "length of loader 1\n"
     ]
    },
    {
     "name": "stderr",
     "output_type": "stream",
     "text": [
      "100%|██████████| 1/1 [00:00<00:00,  2.54it/s, loss=0.577]\n"
     ]
    },
    {
     "name": "stdout",
     "output_type": "stream",
     "text": [
      "Out of Train\n",
      "=> Saving checkpoint\n",
      "checkpoint saved\n",
      "~~~~ In test ~~~~\n",
      "Loss = 0.9350937455892563\n",
      "IoU Score = 0.0374884270131588\n",
      "Dice Score = 0.07110469788312912\n",
      "~~~~~ Out of test ~~~~~\n",
      "In Train\n",
      "length of loader 1\n"
     ]
    },
    {
     "name": "stderr",
     "output_type": "stream",
     "text": [
      "100%|██████████| 1/1 [00:00<00:00,  2.55it/s, loss=0.575]\n"
     ]
    },
    {
     "name": "stdout",
     "output_type": "stream",
     "text": [
      "Out of Train\n",
      "=> Saving checkpoint\n",
      "checkpoint saved\n",
      "~~~~ In test ~~~~\n",
      "Loss = 0.9337840527296066\n",
      "IoU Score = 0.04251357167959213\n",
      "Dice Score = 0.08011066913604736\n",
      "~~~~~ Out of test ~~~~~\n",
      "In Train\n",
      "length of loader 1\n"
     ]
    },
    {
     "name": "stderr",
     "output_type": "stream",
     "text": [
      "100%|██████████| 1/1 [00:00<00:00,  2.53it/s, loss=0.574]\n"
     ]
    },
    {
     "name": "stdout",
     "output_type": "stream",
     "text": [
      "Out of Train\n",
      "=> Saving checkpoint\n",
      "checkpoint saved\n",
      "~~~~ In test ~~~~\n",
      "Loss = 0.9325370341539383\n",
      "IoU Score = 0.04799976199865341\n",
      "Dice Score = 0.0898604691028595\n",
      "~~~~~ Out of test ~~~~~\n",
      "In Train\n",
      "length of loader 1\n"
     ]
    },
    {
     "name": "stderr",
     "output_type": "stream",
     "text": [
      "100%|██████████| 1/1 [00:00<00:00,  2.58it/s, loss=0.573]\n"
     ]
    },
    {
     "name": "stdout",
     "output_type": "stream",
     "text": [
      "Out of Train\n",
      "=> Saving checkpoint\n",
      "checkpoint saved\n",
      "~~~~ In test ~~~~\n",
      "Loss = 0.9314022362232208\n",
      "IoU Score = 0.05344497412443161\n",
      "Dice Score = 0.09944172203540802\n",
      "~~~~~ Out of test ~~~~~\n",
      "In Train\n",
      "length of loader 1\n"
     ]
    },
    {
     "name": "stderr",
     "output_type": "stream",
     "text": [
      "100%|██████████| 1/1 [00:00<00:00,  2.55it/s, loss=0.571]\n"
     ]
    },
    {
     "name": "stdout",
     "output_type": "stream",
     "text": [
      "Out of Train\n",
      "=> Saving checkpoint\n",
      "checkpoint saved\n",
      "~~~~ In test ~~~~\n",
      "Loss = 0.9302147775888443\n",
      "IoU Score = 0.05853239446878433\n",
      "Dice Score = 0.10832930356264114\n",
      "~~~~~ Out of test ~~~~~\n",
      "In Train\n",
      "length of loader 1\n"
     ]
    },
    {
     "name": "stderr",
     "output_type": "stream",
     "text": [
      "100%|██████████| 1/1 [00:00<00:00,  2.54it/s, loss=0.569]\n"
     ]
    },
    {
     "name": "stdout",
     "output_type": "stream",
     "text": [
      "Out of Train\n",
      "=> Saving checkpoint\n",
      "checkpoint saved\n",
      "~~~~ In test ~~~~\n",
      "Loss = 0.9291263297200203\n",
      "IoU Score = 0.06369902193546295\n",
      "Dice Score = 0.11729586124420166\n",
      "~~~~~ Out of test ~~~~~\n",
      "In Train\n",
      "length of loader 1\n"
     ]
    },
    {
     "name": "stderr",
     "output_type": "stream",
     "text": [
      "100%|██████████| 1/1 [00:00<00:00,  2.55it/s, loss=0.568]\n"
     ]
    },
    {
     "name": "stdout",
     "output_type": "stream",
     "text": [
      "Out of Train\n",
      "=> Saving checkpoint\n",
      "checkpoint saved\n",
      "~~~~ In test ~~~~\n",
      "Loss = 0.9280932694673538\n",
      "IoU Score = 0.0700037032365799\n",
      "Dice Score = 0.12812770903110504\n",
      "~~~~~ Out of test ~~~~~\n",
      "In Train\n",
      "length of loader 1\n"
     ]
    },
    {
     "name": "stderr",
     "output_type": "stream",
     "text": [
      "100%|██████████| 1/1 [00:00<00:00,  2.53it/s, loss=0.565]\n"
     ]
    },
    {
     "name": "stdout",
     "output_type": "stream",
     "text": [
      "Out of Train\n",
      "=> Saving checkpoint\n",
      "checkpoint saved\n",
      "~~~~ In test ~~~~\n",
      "Loss = 0.927050918340683\n",
      "IoU Score = 0.0763748362660408\n",
      "Dice Score = 0.13897034525871277\n",
      "~~~~~ Out of test ~~~~~\n",
      "In Train\n",
      "length of loader 1\n"
     ]
    },
    {
     "name": "stderr",
     "output_type": "stream",
     "text": [
      "100%|██████████| 1/1 [00:00<00:00,  2.55it/s, loss=0.563]\n"
     ]
    },
    {
     "name": "stdout",
     "output_type": "stream",
     "text": [
      "Out of Train\n",
      "=> Saving checkpoint\n",
      "checkpoint saved\n",
      "~~~~ In test ~~~~\n",
      "Loss = 0.9259175956249237\n",
      "IoU Score = 0.08220314234495163\n",
      "Dice Score = 0.14882802963256836\n",
      "~~~~~ Out of test ~~~~~\n",
      "In Train\n",
      "length of loader 1\n"
     ]
    },
    {
     "name": "stderr",
     "output_type": "stream",
     "text": [
      "100%|██████████| 1/1 [00:00<00:00,  2.58it/s, loss=0.561]\n"
     ]
    },
    {
     "name": "stdout",
     "output_type": "stream",
     "text": [
      "Out of Train\n",
      "=> Saving checkpoint\n",
      "checkpoint saved\n",
      "~~~~ In test ~~~~\n",
      "Loss = 0.9247763976454735\n",
      "IoU Score = 0.08767758309841156\n",
      "Dice Score = 0.1580241322517395\n",
      "~~~~~ Out of test ~~~~~\n",
      "In Train\n",
      "length of loader 1\n"
     ]
    },
    {
     "name": "stderr",
     "output_type": "stream",
     "text": [
      "100%|██████████| 1/1 [00:00<00:00,  2.58it/s, loss=0.56]\n"
     ]
    },
    {
     "name": "stdout",
     "output_type": "stream",
     "text": [
      "Out of Train\n",
      "=> Saving checkpoint\n",
      "checkpoint saved\n",
      "~~~~ In test ~~~~\n",
      "Loss = 0.9237194284796715\n",
      "IoU Score = 0.09267286211252213\n",
      "Dice Score = 0.16639862954616547\n",
      "~~~~~ Out of test ~~~~~\n",
      "In Train\n",
      "length of loader 1\n"
     ]
    },
    {
     "name": "stderr",
     "output_type": "stream",
     "text": [
      "100%|██████████| 1/1 [00:00<00:00,  2.55it/s, loss=0.558]\n"
     ]
    },
    {
     "name": "stdout",
     "output_type": "stream",
     "text": [
      "Out of Train\n",
      "=> Saving checkpoint\n",
      "checkpoint saved\n",
      "~~~~ In test ~~~~\n",
      "Loss = 0.9227077662944794\n",
      "IoU Score = 0.09708559513092041\n",
      "Dice Score = 0.17376606166362762\n",
      "~~~~~ Out of test ~~~~~\n",
      "In Train\n",
      "length of loader 1\n"
     ]
    },
    {
     "name": "stderr",
     "output_type": "stream",
     "text": [
      "100%|██████████| 1/1 [00:00<00:00,  2.39it/s, loss=0.558]\n"
     ]
    },
    {
     "name": "stdout",
     "output_type": "stream",
     "text": [
      "Out of Train\n",
      "=> Saving checkpoint\n",
      "checkpoint saved\n",
      "~~~~ In test ~~~~\n",
      "Loss = 0.9217938333749771\n",
      "IoU Score = 0.10054655373096466\n",
      "Dice Score = 0.1795731484889984\n",
      "~~~~~ Out of test ~~~~~\n",
      "In Train\n",
      "length of loader 1\n"
     ]
    },
    {
     "name": "stderr",
     "output_type": "stream",
     "text": [
      "100%|██████████| 1/1 [00:00<00:00,  2.55it/s, loss=0.556]\n"
     ]
    },
    {
     "name": "stdout",
     "output_type": "stream",
     "text": [
      "Out of Train\n",
      "=> Saving checkpoint\n",
      "checkpoint saved\n",
      "~~~~ In test ~~~~\n",
      "Loss = 0.9209102392196655\n",
      "IoU Score = 0.10382403433322906\n",
      "Dice Score = 0.1850488781929016\n",
      "~~~~~ Out of test ~~~~~\n",
      "In Train\n",
      "length of loader 1\n"
     ]
    },
    {
     "name": "stderr",
     "output_type": "stream",
     "text": [
      "100%|██████████| 1/1 [00:00<00:00,  2.53it/s, loss=0.554]\n"
     ]
    },
    {
     "name": "stdout",
     "output_type": "stream",
     "text": [
      "Out of Train\n",
      "=> Saving checkpoint\n",
      "checkpoint saved\n",
      "~~~~ In test ~~~~\n",
      "Loss = 0.9202506095170975\n",
      "IoU Score = 0.10557382553815842\n",
      "Dice Score = 0.18807561695575714\n",
      "~~~~~ Out of test ~~~~~\n",
      "In Train\n",
      "length of loader 1\n"
     ]
    },
    {
     "name": "stderr",
     "output_type": "stream",
     "text": [
      "100%|██████████| 1/1 [00:00<00:00,  2.52it/s, loss=0.552]\n"
     ]
    },
    {
     "name": "stdout",
     "output_type": "stream",
     "text": [
      "Out of Train\n",
      "=> Saving checkpoint\n",
      "checkpoint saved\n",
      "~~~~ In test ~~~~\n",
      "Loss = 0.919580727815628\n",
      "IoU Score = 0.10583242774009705\n",
      "Dice Score = 0.1887202262878418\n",
      "~~~~~ Out of test ~~~~~\n",
      "In Train\n",
      "length of loader 1\n"
     ]
    },
    {
     "name": "stderr",
     "output_type": "stream",
     "text": [
      "100%|██████████| 1/1 [00:00<00:00,  2.53it/s, loss=0.55]\n"
     ]
    },
    {
     "name": "stdout",
     "output_type": "stream",
     "text": [
      "Out of Train\n",
      "=> Saving checkpoint\n",
      "checkpoint saved\n",
      "~~~~ In test ~~~~\n",
      "Loss = 0.9189174845814705\n",
      "IoU Score = 0.10428103804588318\n",
      "Dice Score = 0.18647520244121552\n",
      "~~~~~ Out of test ~~~~~\n",
      "In Train\n",
      "length of loader 1\n"
     ]
    },
    {
     "name": "stderr",
     "output_type": "stream",
     "text": [
      "100%|██████████| 1/1 [00:00<00:00,  2.57it/s, loss=0.547]\n"
     ]
    },
    {
     "name": "stdout",
     "output_type": "stream",
     "text": [
      "Out of Train\n",
      "=> Saving checkpoint\n",
      "checkpoint saved\n",
      "~~~~ In test ~~~~\n",
      "Loss = 0.918398454785347\n",
      "IoU Score = 0.1024632528424263\n",
      "Dice Score = 0.1837613433599472\n",
      "~~~~~ Out of test ~~~~~\n",
      "In Train\n",
      "length of loader 1\n"
     ]
    },
    {
     "name": "stderr",
     "output_type": "stream",
     "text": [
      "100%|██████████| 1/1 [00:00<00:00,  2.54it/s, loss=0.546]\n"
     ]
    },
    {
     "name": "stdout",
     "output_type": "stream",
     "text": [
      "Out of Train\n",
      "=> Saving checkpoint\n",
      "checkpoint saved\n",
      "~~~~ In test ~~~~\n",
      "Loss = 0.9179133176803589\n",
      "IoU Score = 0.10109128803014755\n",
      "Dice Score = 0.18171754479408264\n",
      "~~~~~ Out of test ~~~~~\n",
      "In Train\n",
      "length of loader 1\n"
     ]
    },
    {
     "name": "stderr",
     "output_type": "stream",
     "text": [
      "100%|██████████| 1/1 [00:00<00:00,  2.57it/s, loss=0.545]\n"
     ]
    },
    {
     "name": "stdout",
     "output_type": "stream",
     "text": [
      "Out of Train\n",
      "=> Saving checkpoint\n",
      "checkpoint saved\n",
      "~~~~ In test ~~~~\n",
      "Loss = 0.9174625277519226\n",
      "IoU Score = 0.09963268041610718\n",
      "Dice Score = 0.1795213520526886\n",
      "~~~~~ Out of test ~~~~~\n",
      "In Train\n",
      "length of loader 1\n"
     ]
    },
    {
     "name": "stderr",
     "output_type": "stream",
     "text": [
      "100%|██████████| 1/1 [00:00<00:00,  2.54it/s, loss=0.543]\n"
     ]
    },
    {
     "name": "stdout",
     "output_type": "stream",
     "text": [
      "Out of Train\n",
      "=> Saving checkpoint\n",
      "checkpoint saved\n",
      "~~~~ In test ~~~~\n",
      "Loss = 0.9169742465019226\n",
      "IoU Score = 0.0997476726770401\n",
      "Dice Score = 0.17986252903938293\n",
      "~~~~~ Out of test ~~~~~\n",
      "In Train\n",
      "length of loader 1\n"
     ]
    },
    {
     "name": "stderr",
     "output_type": "stream",
     "text": [
      "100%|██████████| 1/1 [00:00<00:00,  2.54it/s, loss=0.543]\n"
     ]
    },
    {
     "name": "stdout",
     "output_type": "stream",
     "text": [
      "Out of Train\n",
      "=> Saving checkpoint\n",
      "checkpoint saved\n",
      "~~~~ In test ~~~~\n",
      "Loss = 0.9166241958737373\n",
      "IoU Score = 0.09924419224262238\n",
      "Dice Score = 0.17918330430984497\n",
      "~~~~~ Out of test ~~~~~\n",
      "In Train\n",
      "length of loader 1\n"
     ]
    },
    {
     "name": "stderr",
     "output_type": "stream",
     "text": [
      "100%|██████████| 1/1 [00:00<00:00,  2.59it/s, loss=0.538]\n"
     ]
    },
    {
     "name": "stdout",
     "output_type": "stream",
     "text": [
      "Out of Train\n",
      "=> Saving checkpoint\n",
      "checkpoint saved\n",
      "~~~~ In test ~~~~\n",
      "Loss = 0.9161646664142609\n",
      "IoU Score = 0.10088999569416046\n",
      "Dice Score = 0.18199151754379272\n",
      "~~~~~ Out of test ~~~~~\n",
      "In Train\n",
      "length of loader 1\n"
     ]
    },
    {
     "name": "stderr",
     "output_type": "stream",
     "text": [
      "100%|██████████| 1/1 [00:00<00:00,  2.53it/s, loss=0.54]\n"
     ]
    },
    {
     "name": "stdout",
     "output_type": "stream",
     "text": [
      "Out of Train\n",
      "=> Saving checkpoint\n",
      "checkpoint saved\n",
      "~~~~ In test ~~~~\n",
      "Loss = 0.9157550632953644\n",
      "IoU Score = 0.10219842940568924\n",
      "Dice Score = 0.18422925472259521\n",
      "~~~~~ Out of test ~~~~~\n",
      "In Train\n",
      "length of loader 1\n"
     ]
    },
    {
     "name": "stderr",
     "output_type": "stream",
     "text": [
      "100%|██████████| 1/1 [00:00<00:00,  2.53it/s, loss=0.537]\n"
     ]
    },
    {
     "name": "stdout",
     "output_type": "stream",
     "text": [
      "Out of Train\n",
      "=> Saving checkpoint\n",
      "checkpoint saved\n",
      "~~~~ In test ~~~~\n",
      "Loss = 0.9153569266200066\n",
      "IoU Score = 0.10372789204120636\n",
      "Dice Score = 0.18681219220161438\n",
      "~~~~~ Out of test ~~~~~\n",
      "In Train\n",
      "length of loader 1\n"
     ]
    },
    {
     "name": "stderr",
     "output_type": "stream",
     "text": [
      "100%|██████████| 1/1 [00:00<00:00,  2.56it/s, loss=0.533]\n"
     ]
    },
    {
     "name": "stdout",
     "output_type": "stream",
     "text": [
      "Out of Train\n",
      "=> Saving checkpoint\n",
      "checkpoint saved\n",
      "~~~~ In test ~~~~\n",
      "Loss = 0.9148771539330482\n",
      "IoU Score = 0.10604524612426758\n",
      "Dice Score = 0.19064781069755554\n",
      "~~~~~ Out of test ~~~~~\n",
      "In Train\n",
      "length of loader 1\n"
     ]
    },
    {
     "name": "stderr",
     "output_type": "stream",
     "text": [
      "100%|██████████| 1/1 [00:00<00:00,  2.54it/s, loss=0.533]\n"
     ]
    },
    {
     "name": "stdout",
     "output_type": "stream",
     "text": [
      "Out of Train\n",
      "=> Saving checkpoint\n",
      "checkpoint saved\n",
      "~~~~ In test ~~~~\n",
      "Loss = 0.9143961742520332\n",
      "IoU Score = 0.10832345485687256\n",
      "Dice Score = 0.19439572095870972\n",
      "~~~~~ Out of test ~~~~~\n",
      "In Train\n",
      "length of loader 1\n"
     ]
    },
    {
     "name": "stderr",
     "output_type": "stream",
     "text": [
      "100%|██████████| 1/1 [00:00<00:00,  2.56it/s, loss=0.53]\n"
     ]
    },
    {
     "name": "stdout",
     "output_type": "stream",
     "text": [
      "Out of Train\n",
      "=> Saving checkpoint\n",
      "checkpoint saved\n",
      "~~~~ In test ~~~~\n",
      "Loss = 0.9139220640063286\n",
      "IoU Score = 0.1109505295753479\n",
      "Dice Score = 0.19868186116218567\n",
      "~~~~~ Out of test ~~~~~\n",
      "In Train\n",
      "length of loader 1\n"
     ]
    },
    {
     "name": "stderr",
     "output_type": "stream",
     "text": [
      "100%|██████████| 1/1 [00:00<00:00,  2.56it/s, loss=0.528]\n"
     ]
    },
    {
     "name": "stdout",
     "output_type": "stream",
     "text": [
      "Out of Train\n",
      "=> Saving checkpoint\n",
      "checkpoint saved\n",
      "~~~~ In test ~~~~\n",
      "Loss = 0.9132789969444275\n",
      "IoU Score = 0.11412349343299866\n",
      "Dice Score = 0.2038087248802185\n",
      "~~~~~ Out of test ~~~~~\n",
      "In Train\n",
      "length of loader 1\n"
     ]
    },
    {
     "name": "stderr",
     "output_type": "stream",
     "text": [
      "100%|██████████| 1/1 [00:00<00:00,  2.57it/s, loss=0.528]\n"
     ]
    },
    {
     "name": "stdout",
     "output_type": "stream",
     "text": [
      "Out of Train\n",
      "=> Saving checkpoint\n",
      "checkpoint saved\n",
      "~~~~ In test ~~~~\n",
      "Loss = 0.912700243294239\n",
      "IoU Score = 0.11679177731275558\n",
      "Dice Score = 0.20811396837234497\n",
      "~~~~~ Out of test ~~~~~\n",
      "In Train\n",
      "length of loader 1\n"
     ]
    },
    {
     "name": "stderr",
     "output_type": "stream",
     "text": [
      "100%|██████████| 1/1 [00:00<00:00,  2.54it/s, loss=0.526]\n"
     ]
    },
    {
     "name": "stdout",
     "output_type": "stream",
     "text": [
      "Out of Train\n",
      "=> Saving checkpoint\n",
      "checkpoint saved\n",
      "~~~~ In test ~~~~\n",
      "Loss = 0.9120556563138962\n",
      "IoU Score = 0.11957478523254395\n",
      "Dice Score = 0.21258117258548737\n",
      "~~~~~ Out of test ~~~~~\n",
      "In Train\n",
      "length of loader 1\n"
     ]
    },
    {
     "name": "stderr",
     "output_type": "stream",
     "text": [
      "100%|██████████| 1/1 [00:00<00:00,  2.54it/s, loss=0.525]\n"
     ]
    },
    {
     "name": "stdout",
     "output_type": "stream",
     "text": [
      "Out of Train\n",
      "=> Saving checkpoint\n",
      "checkpoint saved\n",
      "~~~~ In test ~~~~\n",
      "Loss = 0.9114858880639076\n",
      "IoU Score = 0.12193996459245682\n",
      "Dice Score = 0.21636757254600525\n",
      "~~~~~ Out of test ~~~~~\n",
      "In Train\n",
      "length of loader 1\n"
     ]
    },
    {
     "name": "stderr",
     "output_type": "stream",
     "text": [
      "100%|██████████| 1/1 [00:00<00:00,  2.56it/s, loss=0.522]\n"
     ]
    },
    {
     "name": "stdout",
     "output_type": "stream",
     "text": [
      "Out of Train\n",
      "=> Saving checkpoint\n",
      "checkpoint saved\n",
      "~~~~ In test ~~~~\n",
      "Loss = 0.9108732417225838\n",
      "IoU Score = 0.12448140978813171\n",
      "Dice Score = 0.22040832042694092\n",
      "~~~~~ Out of test ~~~~~\n",
      "In Train\n",
      "length of loader 1\n"
     ]
    },
    {
     "name": "stderr",
     "output_type": "stream",
     "text": [
      "100%|██████████| 1/1 [00:00<00:00,  2.56it/s, loss=0.521]\n"
     ]
    },
    {
     "name": "stdout",
     "output_type": "stream",
     "text": [
      "Out of Train\n",
      "=> Saving checkpoint\n",
      "checkpoint saved\n",
      "~~~~ In test ~~~~\n",
      "Loss = 0.9103042855858803\n",
      "IoU Score = 0.1272362470626831\n",
      "Dice Score = 0.2247680425643921\n",
      "~~~~~ Out of test ~~~~~\n",
      "In Train\n",
      "length of loader 1\n"
     ]
    },
    {
     "name": "stderr",
     "output_type": "stream",
     "text": [
      "100%|██████████| 1/1 [00:00<00:00,  2.54it/s, loss=0.518]\n"
     ]
    },
    {
     "name": "stdout",
     "output_type": "stream",
     "text": [
      "Out of Train\n",
      "=> Saving checkpoint\n",
      "checkpoint saved\n",
      "~~~~ In test ~~~~\n",
      "Loss = 0.9098185375332832\n",
      "IoU Score = 0.1295284926891327\n",
      "Dice Score = 0.2283894121646881\n",
      "~~~~~ Out of test ~~~~~\n",
      "In Train\n",
      "length of loader 1\n"
     ]
    },
    {
     "name": "stderr",
     "output_type": "stream",
     "text": [
      "100%|██████████| 1/1 [00:00<00:00,  2.55it/s, loss=0.518]\n"
     ]
    },
    {
     "name": "stdout",
     "output_type": "stream",
     "text": [
      "Out of Train\n",
      "=> Saving checkpoint\n",
      "checkpoint saved\n",
      "~~~~ In test ~~~~\n",
      "Loss = 0.9093078896403313\n",
      "IoU Score = 0.13184575736522675\n",
      "Dice Score = 0.23203369975090027\n",
      "~~~~~ Out of test ~~~~~\n",
      "In Train\n",
      "length of loader 1\n"
     ]
    },
    {
     "name": "stderr",
     "output_type": "stream",
     "text": [
      "100%|██████████| 1/1 [00:00<00:00,  2.58it/s, loss=0.514]\n"
     ]
    },
    {
     "name": "stdout",
     "output_type": "stream",
     "text": [
      "Out of Train\n",
      "=> Saving checkpoint\n",
      "checkpoint saved\n",
      "~~~~ In test ~~~~\n",
      "Loss = 0.9088274240493774\n",
      "IoU Score = 0.13426212966442108\n",
      "Dice Score = 0.23581820726394653\n",
      "~~~~~ Out of test ~~~~~\n",
      "In Train\n",
      "length of loader 1\n"
     ]
    },
    {
     "name": "stderr",
     "output_type": "stream",
     "text": [
      "100%|██████████| 1/1 [00:00<00:00,  2.56it/s, loss=0.515]\n"
     ]
    },
    {
     "name": "stdout",
     "output_type": "stream",
     "text": [
      "Out of Train\n",
      "=> Saving checkpoint\n",
      "checkpoint saved\n",
      "~~~~ In test ~~~~\n",
      "Loss = 0.9083809703588486\n",
      "IoU Score = 0.1360704004764557\n",
      "Dice Score = 0.23863832652568817\n",
      "~~~~~ Out of test ~~~~~\n",
      "In Train\n",
      "length of loader 1\n"
     ]
    },
    {
     "name": "stderr",
     "output_type": "stream",
     "text": [
      "100%|██████████| 1/1 [00:00<00:00,  2.53it/s, loss=0.513]\n"
     ]
    },
    {
     "name": "stdout",
     "output_type": "stream",
     "text": [
      "Out of Train\n",
      "=> Saving checkpoint\n",
      "checkpoint saved\n",
      "~~~~ In test ~~~~\n",
      "Loss = 0.9078281819820404\n",
      "IoU Score = 0.13815508782863617\n",
      "Dice Score = 0.24185273051261902\n",
      "~~~~~ Out of test ~~~~~\n",
      "In Train\n",
      "length of loader 1\n"
     ]
    },
    {
     "name": "stderr",
     "output_type": "stream",
     "text": [
      "100%|██████████| 1/1 [00:00<00:00,  2.55it/s, loss=0.51]\n"
     ]
    },
    {
     "name": "stdout",
     "output_type": "stream",
     "text": [
      "Out of Train\n",
      "=> Saving checkpoint\n",
      "checkpoint saved\n",
      "~~~~ In test ~~~~\n",
      "Loss = 0.9071958139538765\n",
      "IoU Score = 0.14166131615638733\n",
      "Dice Score = 0.24722373485565186\n",
      "~~~~~ Out of test ~~~~~\n",
      "In Train\n",
      "length of loader 1\n"
     ]
    },
    {
     "name": "stderr",
     "output_type": "stream",
     "text": [
      "100%|██████████| 1/1 [00:00<00:00,  2.56it/s, loss=0.508]\n"
     ]
    },
    {
     "name": "stdout",
     "output_type": "stream",
     "text": [
      "Out of Train\n",
      "=> Saving checkpoint\n",
      "checkpoint saved\n",
      "~~~~ In test ~~~~\n",
      "Loss = 0.9065842851996422\n",
      "IoU Score = 0.14465640485286713\n",
      "Dice Score = 0.25178080797195435\n",
      "~~~~~ Out of test ~~~~~\n",
      "In Train\n",
      "length of loader 1\n"
     ]
    },
    {
     "name": "stderr",
     "output_type": "stream",
     "text": [
      "100%|██████████| 1/1 [00:00<00:00,  2.56it/s, loss=0.504]\n"
     ]
    },
    {
     "name": "stdout",
     "output_type": "stream",
     "text": [
      "Out of Train\n",
      "=> Saving checkpoint\n",
      "checkpoint saved\n",
      "~~~~ In test ~~~~\n",
      "Loss = 0.9059044644236565\n",
      "IoU Score = 0.14757144451141357\n",
      "Dice Score = 0.25619715452194214\n",
      "~~~~~ Out of test ~~~~~\n",
      "In Train\n",
      "length of loader 1\n"
     ]
    },
    {
     "name": "stderr",
     "output_type": "stream",
     "text": [
      "100%|██████████| 1/1 [00:00<00:00,  2.58it/s, loss=0.505]\n"
     ]
    },
    {
     "name": "stdout",
     "output_type": "stream",
     "text": [
      "Out of Train\n",
      "=> Saving checkpoint\n",
      "checkpoint saved\n",
      "~~~~ In test ~~~~\n",
      "Loss = 0.9054547771811485\n",
      "IoU Score = 0.14891298115253448\n",
      "Dice Score = 0.25823381543159485\n",
      "~~~~~ Out of test ~~~~~\n",
      "In Train\n",
      "length of loader 1\n"
     ]
    },
    {
     "name": "stderr",
     "output_type": "stream",
     "text": [
      "100%|██████████| 1/1 [00:00<00:00,  2.58it/s, loss=0.503]\n"
     ]
    },
    {
     "name": "stdout",
     "output_type": "stream",
     "text": [
      "Out of Train\n",
      "=> Saving checkpoint\n",
      "checkpoint saved\n",
      "~~~~ In test ~~~~\n",
      "Loss = 0.9051738232374191\n",
      "IoU Score = 0.149455264210701\n",
      "Dice Score = 0.2590840756893158\n",
      "~~~~~ Out of test ~~~~~\n",
      "In Train\n",
      "length of loader 1\n"
     ]
    },
    {
     "name": "stderr",
     "output_type": "stream",
     "text": [
      "100%|██████████| 1/1 [00:00<00:00,  2.55it/s, loss=0.501]\n"
     ]
    },
    {
     "name": "stdout",
     "output_type": "stream",
     "text": [
      "Out of Train\n",
      "=> Saving checkpoint\n",
      "checkpoint saved\n",
      "~~~~ In test ~~~~\n",
      "Loss = 0.9049807414412498\n",
      "IoU Score = 0.14953477680683136\n",
      "Dice Score = 0.2592271864414215\n",
      "~~~~~ Out of test ~~~~~\n",
      "In Train\n",
      "length of loader 1\n"
     ]
    },
    {
     "name": "stderr",
     "output_type": "stream",
     "text": [
      "100%|██████████| 1/1 [00:00<00:00,  2.53it/s, loss=0.499]\n"
     ]
    },
    {
     "name": "stdout",
     "output_type": "stream",
     "text": [
      "Out of Train\n",
      "=> Saving checkpoint\n",
      "checkpoint saved\n",
      "~~~~ In test ~~~~\n",
      "Loss = 0.9045118764042854\n",
      "IoU Score = 0.15187154710292816\n",
      "Dice Score = 0.26273399591445923\n",
      "~~~~~ Out of test ~~~~~\n",
      "In Train\n",
      "length of loader 1\n"
     ]
    },
    {
     "name": "stderr",
     "output_type": "stream",
     "text": [
      "100%|██████████| 1/1 [00:00<00:00,  2.56it/s, loss=0.497]\n"
     ]
    },
    {
     "name": "stdout",
     "output_type": "stream",
     "text": [
      "Out of Train\n",
      "=> Saving checkpoint\n",
      "checkpoint saved\n",
      "~~~~ In test ~~~~\n",
      "Loss = 0.9038608446717262\n",
      "IoU Score = 0.15615177154541016\n",
      "Dice Score = 0.26911842823028564\n",
      "~~~~~ Out of test ~~~~~\n",
      "In Train\n",
      "length of loader 1\n"
     ]
    },
    {
     "name": "stderr",
     "output_type": "stream",
     "text": [
      "100%|██████████| 1/1 [00:00<00:00,  2.57it/s, loss=0.495]\n"
     ]
    },
    {
     "name": "stdout",
     "output_type": "stream",
     "text": [
      "Out of Train\n",
      "=> Saving checkpoint\n",
      "checkpoint saved\n",
      "~~~~ In test ~~~~\n",
      "Loss = 0.9032798781991005\n",
      "IoU Score = 0.15969283878803253\n",
      "Dice Score = 0.2743481397628784\n",
      "~~~~~ Out of test ~~~~~\n",
      "In Train\n",
      "length of loader 1\n"
     ]
    },
    {
     "name": "stderr",
     "output_type": "stream",
     "text": [
      "100%|██████████| 1/1 [00:00<00:00,  2.53it/s, loss=0.495]\n"
     ]
    },
    {
     "name": "stdout",
     "output_type": "stream",
     "text": [
      "Out of Train\n",
      "=> Saving checkpoint\n",
      "checkpoint saved\n",
      "~~~~ In test ~~~~\n",
      "Loss = 0.9029209241271019\n",
      "IoU Score = 0.1603795439004898\n",
      "Dice Score = 0.2753273844718933\n",
      "~~~~~ Out of test ~~~~~\n",
      "In Train\n",
      "length of loader 1\n"
     ]
    },
    {
     "name": "stderr",
     "output_type": "stream",
     "text": [
      "100%|██████████| 1/1 [00:00<00:00,  2.52it/s, loss=0.491]\n"
     ]
    },
    {
     "name": "stdout",
     "output_type": "stream",
     "text": [
      "Out of Train\n",
      "=> Saving checkpoint\n",
      "checkpoint saved\n",
      "~~~~ In test ~~~~\n",
      "Loss = 0.9023789614439011\n",
      "IoU Score = 0.16279950737953186\n",
      "Dice Score = 0.2788707911968231\n",
      "~~~~~ Out of test ~~~~~\n",
      "In Train\n",
      "length of loader 1\n"
     ]
    },
    {
     "name": "stderr",
     "output_type": "stream",
     "text": [
      "100%|██████████| 1/1 [00:00<00:00,  2.53it/s, loss=0.492]\n"
     ]
    },
    {
     "name": "stdout",
     "output_type": "stream",
     "text": [
      "Out of Train\n",
      "=> Saving checkpoint\n",
      "checkpoint saved\n",
      "~~~~ In test ~~~~\n",
      "Loss = 0.9020631313323975\n",
      "IoU Score = 0.1632547527551651\n",
      "Dice Score = 0.27952176332473755\n",
      "~~~~~ Out of test ~~~~~\n",
      "In Train\n",
      "length of loader 1\n"
     ]
    },
    {
     "name": "stderr",
     "output_type": "stream",
     "text": [
      "100%|██████████| 1/1 [00:00<00:00,  2.55it/s, loss=0.487]\n"
     ]
    },
    {
     "name": "stdout",
     "output_type": "stream",
     "text": [
      "Out of Train\n",
      "=> Saving checkpoint\n",
      "checkpoint saved\n",
      "~~~~ In test ~~~~\n",
      "Loss = 0.9016466587781906\n",
      "IoU Score = 0.1648528277873993\n",
      "Dice Score = 0.281863808631897\n",
      "~~~~~ Out of test ~~~~~\n",
      "In Train\n",
      "length of loader 1\n"
     ]
    },
    {
     "name": "stderr",
     "output_type": "stream",
     "text": [
      "100%|██████████| 1/1 [00:00<00:00,  2.56it/s, loss=0.489]\n"
     ]
    },
    {
     "name": "stdout",
     "output_type": "stream",
     "text": [
      "Out of Train\n",
      "=> Saving checkpoint\n",
      "checkpoint saved\n",
      "~~~~ In test ~~~~\n",
      "Loss = 0.9014531597495079\n",
      "IoU Score = 0.166206493973732\n",
      "Dice Score = 0.2838976979255676\n",
      "~~~~~ Out of test ~~~~~\n",
      "In Train\n",
      "length of loader 1\n"
     ]
    },
    {
     "name": "stderr",
     "output_type": "stream",
     "text": [
      "100%|██████████| 1/1 [00:00<00:00,  2.57it/s, loss=0.484]\n"
     ]
    },
    {
     "name": "stdout",
     "output_type": "stream",
     "text": [
      "Out of Train\n",
      "=> Saving checkpoint\n",
      "checkpoint saved\n",
      "~~~~ In test ~~~~\n",
      "Loss = 0.900928869843483\n",
      "IoU Score = 0.16996809840202332\n",
      "Dice Score = 0.28940996527671814\n",
      "~~~~~ Out of test ~~~~~\n",
      "In Train\n",
      "length of loader 1\n"
     ]
    },
    {
     "name": "stderr",
     "output_type": "stream",
     "text": [
      "100%|██████████| 1/1 [00:00<00:00,  2.55it/s, loss=0.484]\n"
     ]
    },
    {
     "name": "stdout",
     "output_type": "stream",
     "text": [
      "Out of Train\n",
      "=> Saving checkpoint\n",
      "checkpoint saved\n",
      "~~~~ In test ~~~~\n",
      "Loss = 0.9004781395196915\n",
      "IoU Score = 0.17243574559688568\n",
      "Dice Score = 0.29297488927841187\n",
      "~~~~~ Out of test ~~~~~\n",
      "In Train\n",
      "length of loader 1\n"
     ]
    },
    {
     "name": "stderr",
     "output_type": "stream",
     "text": [
      "100%|██████████| 1/1 [00:00<00:00,  2.54it/s, loss=0.482]\n"
     ]
    },
    {
     "name": "stdout",
     "output_type": "stream",
     "text": [
      "Out of Train\n",
      "=> Saving checkpoint\n",
      "checkpoint saved\n",
      "~~~~ In test ~~~~\n",
      "Loss = 0.8998781815171242\n",
      "IoU Score = 0.17543835937976837\n",
      "Dice Score = 0.2972855567932129\n",
      "~~~~~ Out of test ~~~~~\n",
      "In Train\n",
      "length of loader 1\n"
     ]
    },
    {
     "name": "stderr",
     "output_type": "stream",
     "text": [
      "100%|██████████| 1/1 [00:00<00:00,  2.54it/s, loss=0.48]\n"
     ]
    },
    {
     "name": "stdout",
     "output_type": "stream",
     "text": [
      "Out of Train\n",
      "=> Saving checkpoint\n",
      "checkpoint saved\n",
      "~~~~ In test ~~~~\n",
      "Loss = 0.8992817774415016\n",
      "IoU Score = 0.1780804693698883\n",
      "Dice Score = 0.3010583519935608\n",
      "~~~~~ Out of test ~~~~~\n",
      "In Train\n",
      "length of loader 1\n"
     ]
    },
    {
     "name": "stderr",
     "output_type": "stream",
     "text": [
      "100%|██████████| 1/1 [00:00<00:00,  2.56it/s, loss=0.477]\n"
     ]
    },
    {
     "name": "stdout",
     "output_type": "stream",
     "text": [
      "Out of Train\n",
      "=> Saving checkpoint\n",
      "checkpoint saved\n",
      "~~~~ In test ~~~~\n",
      "Loss = 0.8988715708255768\n",
      "IoU Score = 0.18031886219978333\n",
      "Dice Score = 0.30430394411087036\n",
      "~~~~~ Out of test ~~~~~\n",
      "In Train\n",
      "length of loader 1\n"
     ]
    },
    {
     "name": "stderr",
     "output_type": "stream",
     "text": [
      "100%|██████████| 1/1 [00:00<00:00,  2.57it/s, loss=0.475]\n"
     ]
    },
    {
     "name": "stdout",
     "output_type": "stream",
     "text": [
      "Out of Train\n",
      "=> Saving checkpoint\n",
      "checkpoint saved\n",
      "~~~~ In test ~~~~\n",
      "Loss = 0.8984851762652397\n",
      "IoU Score = 0.1825283169746399\n",
      "Dice Score = 0.30748745799064636\n",
      "~~~~~ Out of test ~~~~~\n",
      "In Train\n",
      "length of loader 1\n"
     ]
    },
    {
     "name": "stderr",
     "output_type": "stream",
     "text": [
      "100%|██████████| 1/1 [00:00<00:00,  2.54it/s, loss=0.476]\n"
     ]
    },
    {
     "name": "stdout",
     "output_type": "stream",
     "text": [
      "Out of Train\n",
      "=> Saving checkpoint\n",
      "checkpoint saved\n",
      "~~~~ In test ~~~~\n",
      "Loss = 0.8979445025324821\n",
      "IoU Score = 0.1856585144996643\n",
      "Dice Score = 0.3119286894798279\n",
      "~~~~~ Out of test ~~~~~\n",
      "In Train\n",
      "length of loader 1\n"
     ]
    },
    {
     "name": "stderr",
     "output_type": "stream",
     "text": [
      "100%|██████████| 1/1 [00:00<00:00,  2.55it/s, loss=0.475]\n"
     ]
    },
    {
     "name": "stdout",
     "output_type": "stream",
     "text": [
      "Out of Train\n",
      "=> Saving checkpoint\n",
      "checkpoint saved\n",
      "~~~~ In test ~~~~\n",
      "Loss = 0.8973815888166428\n",
      "IoU Score = 0.1895931512117386\n",
      "Dice Score = 0.31748494505882263\n",
      "~~~~~ Out of test ~~~~~\n",
      "In Train\n",
      "length of loader 1\n"
     ]
    },
    {
     "name": "stderr",
     "output_type": "stream",
     "text": [
      "100%|██████████| 1/1 [00:00<00:00,  2.56it/s, loss=0.471]\n"
     ]
    },
    {
     "name": "stdout",
     "output_type": "stream",
     "text": [
      "Out of Train\n",
      "=> Saving checkpoint\n",
      "checkpoint saved\n",
      "~~~~ In test ~~~~\n",
      "Loss = 0.8968343064188957\n",
      "IoU Score = 0.19177797436714172\n",
      "Dice Score = 0.32044321298599243\n",
      "~~~~~ Out of test ~~~~~\n",
      "In Train\n",
      "length of loader 1\n"
     ]
    },
    {
     "name": "stderr",
     "output_type": "stream",
     "text": [
      "100%|██████████| 1/1 [00:00<00:00,  2.55it/s, loss=0.471]\n"
     ]
    },
    {
     "name": "stdout",
     "output_type": "stream",
     "text": [
      "Out of Train\n",
      "=> Saving checkpoint\n",
      "checkpoint saved\n",
      "~~~~ In test ~~~~\n",
      "Loss = 0.8963968604803085\n",
      "IoU Score = 0.1926136016845703\n",
      "Dice Score = 0.32141706347465515\n",
      "~~~~~ Out of test ~~~~~\n",
      "In Train\n",
      "length of loader 1\n"
     ]
    },
    {
     "name": "stderr",
     "output_type": "stream",
     "text": [
      "100%|██████████| 1/1 [00:00<00:00,  2.56it/s, loss=0.468]\n"
     ]
    },
    {
     "name": "stdout",
     "output_type": "stream",
     "text": [
      "Out of Train\n",
      "=> Saving checkpoint\n",
      "checkpoint saved\n",
      "~~~~ In test ~~~~\n",
      "Loss = 0.8956692963838577\n",
      "IoU Score = 0.1957605481147766\n",
      "Dice Score = 0.32560738921165466\n",
      "~~~~~ Out of test ~~~~~\n",
      "In Train\n",
      "length of loader 1\n"
     ]
    },
    {
     "name": "stderr",
     "output_type": "stream",
     "text": [
      "100%|██████████| 1/1 [00:00<00:00,  2.56it/s, loss=0.468]\n"
     ]
    },
    {
     "name": "stdout",
     "output_type": "stream",
     "text": [
      "Out of Train\n",
      "=> Saving checkpoint\n",
      "checkpoint saved\n",
      "~~~~ In test ~~~~\n",
      "Loss = 0.8953392207622528\n",
      "IoU Score = 0.19864040613174438\n",
      "Dice Score = 0.32972222566604614\n",
      "~~~~~ Out of test ~~~~~\n",
      "In Train\n",
      "length of loader 1\n"
     ]
    },
    {
     "name": "stderr",
     "output_type": "stream",
     "text": [
      "100%|██████████| 1/1 [00:00<00:00,  2.56it/s, loss=0.465]\n"
     ]
    },
    {
     "name": "stdout",
     "output_type": "stream",
     "text": [
      "Out of Train\n",
      "=> Saving checkpoint\n",
      "checkpoint saved\n",
      "~~~~ In test ~~~~\n",
      "Loss = 0.894867055118084\n",
      "IoU Score = 0.20246855914592743\n",
      "Dice Score = 0.3351661264896393\n",
      "~~~~~ Out of test ~~~~~\n",
      "In Train\n",
      "length of loader 1\n"
     ]
    },
    {
     "name": "stderr",
     "output_type": "stream",
     "text": [
      "100%|██████████| 1/1 [00:00<00:00,  2.55it/s, loss=0.464]\n"
     ]
    },
    {
     "name": "stdout",
     "output_type": "stream",
     "text": [
      "Out of Train\n",
      "=> Saving checkpoint\n",
      "checkpoint saved\n",
      "~~~~ In test ~~~~\n",
      "Loss = 0.8943851590156555\n",
      "IoU Score = 0.20452767610549927\n",
      "Dice Score = 0.33804982900619507\n",
      "~~~~~ Out of test ~~~~~\n",
      "In Train\n",
      "length of loader 1\n"
     ]
    },
    {
     "name": "stderr",
     "output_type": "stream",
     "text": [
      "100%|██████████| 1/1 [00:00<00:00,  2.54it/s, loss=0.462]\n"
     ]
    },
    {
     "name": "stdout",
     "output_type": "stream",
     "text": [
      "Out of Train\n",
      "=> Saving checkpoint\n",
      "checkpoint saved\n",
      "~~~~ In test ~~~~\n",
      "Loss = 0.8935735300183296\n",
      "IoU Score = 0.20856839418411255\n",
      "Dice Score = 0.34357208013534546\n",
      "~~~~~ Out of test ~~~~~\n",
      "In Train\n",
      "length of loader 1\n"
     ]
    },
    {
     "name": "stderr",
     "output_type": "stream",
     "text": [
      "100%|██████████| 1/1 [00:00<00:00,  2.56it/s, loss=0.461]\n"
     ]
    },
    {
     "name": "stdout",
     "output_type": "stream",
     "text": [
      "Out of Train\n",
      "=> Saving checkpoint\n",
      "checkpoint saved\n",
      "~~~~ In test ~~~~\n",
      "Loss = 0.8928801193833351\n",
      "IoU Score = 0.2130405455827713\n",
      "Dice Score = 0.34970083832740784\n",
      "~~~~~ Out of test ~~~~~\n",
      "In Train\n",
      "length of loader 1\n"
     ]
    },
    {
     "name": "stderr",
     "output_type": "stream",
     "text": [
      "100%|██████████| 1/1 [00:00<00:00,  2.55it/s, loss=0.458]\n"
     ]
    },
    {
     "name": "stdout",
     "output_type": "stream",
     "text": [
      "Out of Train\n",
      "=> Saving checkpoint\n",
      "checkpoint saved\n",
      "~~~~ In test ~~~~\n",
      "Loss = 0.8921907544136047\n",
      "IoU Score = 0.2174665778875351\n",
      "Dice Score = 0.3557048439979553\n",
      "~~~~~ Out of test ~~~~~\n",
      "In Train\n",
      "length of loader 1\n"
     ]
    },
    {
     "name": "stderr",
     "output_type": "stream",
     "text": [
      "100%|██████████| 1/1 [00:00<00:00,  2.56it/s, loss=0.458]\n"
     ]
    },
    {
     "name": "stdout",
     "output_type": "stream",
     "text": [
      "Out of Train\n",
      "=> Saving checkpoint\n",
      "checkpoint saved\n",
      "~~~~ In test ~~~~\n",
      "Loss = 0.8917492106556892\n",
      "IoU Score = 0.21780726313591003\n",
      "Dice Score = 0.35606130957603455\n",
      "~~~~~ Out of test ~~~~~\n",
      "In Train\n",
      "length of loader 1\n"
     ]
    },
    {
     "name": "stderr",
     "output_type": "stream",
     "text": [
      "100%|██████████| 1/1 [00:00<00:00,  2.57it/s, loss=0.456]\n"
     ]
    },
    {
     "name": "stdout",
     "output_type": "stream",
     "text": [
      "Out of Train\n",
      "=> Saving checkpoint\n",
      "checkpoint saved\n",
      "~~~~ In test ~~~~\n",
      "Loss = 0.891422726213932\n",
      "IoU Score = 0.21946492791175842\n",
      "Dice Score = 0.35824471712112427\n",
      "~~~~~ Out of test ~~~~~\n",
      "In Train\n",
      "length of loader 1\n"
     ]
    },
    {
     "name": "stderr",
     "output_type": "stream",
     "text": [
      "100%|██████████| 1/1 [00:00<00:00,  2.54it/s, loss=0.455]\n"
     ]
    },
    {
     "name": "stdout",
     "output_type": "stream",
     "text": [
      "Out of Train\n",
      "=> Saving checkpoint\n",
      "checkpoint saved\n",
      "~~~~ In test ~~~~\n",
      "Loss = 0.891153134405613\n",
      "IoU Score = 0.2194036841392517\n",
      "Dice Score = 0.3580493628978729\n",
      "~~~~~ Out of test ~~~~~\n",
      "In Train\n",
      "length of loader 1\n"
     ]
    },
    {
     "name": "stderr",
     "output_type": "stream",
     "text": [
      "100%|██████████| 1/1 [00:00<00:00,  2.55it/s, loss=0.453]\n"
     ]
    },
    {
     "name": "stdout",
     "output_type": "stream",
     "text": [
      "Out of Train\n",
      "=> Saving checkpoint\n",
      "checkpoint saved\n",
      "~~~~ In test ~~~~\n",
      "Loss = 0.8906274661421776\n",
      "IoU Score = 0.222244992852211\n",
      "Dice Score = 0.3617843687534332\n",
      "~~~~~ Out of test ~~~~~\n",
      "In Train\n",
      "length of loader 1\n"
     ]
    },
    {
     "name": "stderr",
     "output_type": "stream",
     "text": [
      "100%|██████████| 1/1 [00:00<00:00,  2.56it/s, loss=0.452]\n"
     ]
    },
    {
     "name": "stdout",
     "output_type": "stream",
     "text": [
      "Out of Train\n",
      "=> Saving checkpoint\n",
      "checkpoint saved\n",
      "~~~~ In test ~~~~\n",
      "Loss = 0.8899241536855698\n",
      "IoU Score = 0.225415900349617\n",
      "Dice Score = 0.3657686114311218\n",
      "~~~~~ Out of test ~~~~~\n",
      "In Train\n",
      "length of loader 1\n"
     ]
    },
    {
     "name": "stderr",
     "output_type": "stream",
     "text": [
      "100%|██████████| 1/1 [00:00<00:00,  2.56it/s, loss=0.452]\n"
     ]
    },
    {
     "name": "stdout",
     "output_type": "stream",
     "text": [
      "Out of Train\n",
      "=> Saving checkpoint\n",
      "checkpoint saved\n",
      "~~~~ In test ~~~~\n",
      "Loss = 0.8895687013864517\n",
      "IoU Score = 0.2262686789035797\n",
      "Dice Score = 0.3667525351047516\n",
      "~~~~~ Out of test ~~~~~\n",
      "In Train\n",
      "length of loader 1\n"
     ]
    },
    {
     "name": "stderr",
     "output_type": "stream",
     "text": [
      "100%|██████████| 1/1 [00:00<00:00,  2.55it/s, loss=0.449]\n"
     ]
    },
    {
     "name": "stdout",
     "output_type": "stream",
     "text": [
      "Out of Train\n",
      "=> Saving checkpoint\n",
      "checkpoint saved\n",
      "~~~~ In test ~~~~\n",
      "Loss = 0.8893375843763351\n",
      "IoU Score = 0.22705036401748657\n",
      "Dice Score = 0.3677443563938141\n",
      "~~~~~ Out of test ~~~~~\n",
      "In Train\n",
      "length of loader 1\n"
     ]
    },
    {
     "name": "stderr",
     "output_type": "stream",
     "text": [
      "100%|██████████| 1/1 [00:00<00:00,  2.54it/s, loss=0.447]\n"
     ]
    },
    {
     "name": "stdout",
     "output_type": "stream",
     "text": [
      "Out of Train\n",
      "=> Saving checkpoint\n",
      "checkpoint saved\n",
      "~~~~ In test ~~~~\n",
      "Loss = 0.8884748667478561\n",
      "IoU Score = 0.22929532825946808\n",
      "Dice Score = 0.37028056383132935\n",
      "~~~~~ Out of test ~~~~~\n",
      "In Train\n",
      "length of loader 1\n"
     ]
    },
    {
     "name": "stderr",
     "output_type": "stream",
     "text": [
      "100%|██████████| 1/1 [00:00<00:00,  2.58it/s, loss=0.445]\n"
     ]
    },
    {
     "name": "stdout",
     "output_type": "stream",
     "text": [
      "Out of Train\n",
      "=> Saving checkpoint\n",
      "checkpoint saved\n",
      "~~~~ In test ~~~~\n",
      "Loss = 0.8880516886711121\n",
      "IoU Score = 0.2335430383682251\n",
      "Dice Score = 0.3759639263153076\n",
      "~~~~~ Out of test ~~~~~\n",
      "In Train\n",
      "length of loader 1\n"
     ]
    },
    {
     "name": "stderr",
     "output_type": "stream",
     "text": [
      "100%|██████████| 1/1 [00:00<00:00,  2.53it/s, loss=0.445]\n"
     ]
    },
    {
     "name": "stdout",
     "output_type": "stream",
     "text": [
      "Out of Train\n",
      "=> Saving checkpoint\n",
      "checkpoint saved\n",
      "~~~~ In test ~~~~\n",
      "Loss = 0.8882907927036285\n",
      "IoU Score = 0.23713216185569763\n",
      "Dice Score = 0.38142916560173035\n",
      "~~~~~ Out of test ~~~~~\n",
      "In Train\n",
      "length of loader 1\n"
     ]
    },
    {
     "name": "stderr",
     "output_type": "stream",
     "text": [
      "100%|██████████| 1/1 [00:00<00:00,  2.56it/s, loss=0.442]\n"
     ]
    },
    {
     "name": "stdout",
     "output_type": "stream",
     "text": [
      "Out of Train\n",
      "=> Saving checkpoint\n",
      "checkpoint saved\n",
      "~~~~ In test ~~~~\n",
      "Loss = 0.8885015174746513\n",
      "IoU Score = 0.23398208618164062\n",
      "Dice Score = 0.37771013379096985\n",
      "~~~~~ Out of test ~~~~~\n",
      "In Train\n",
      "length of loader 1\n"
     ]
    },
    {
     "name": "stderr",
     "output_type": "stream",
     "text": [
      "100%|██████████| 1/1 [00:00<00:00,  2.54it/s, loss=0.442]\n"
     ]
    },
    {
     "name": "stdout",
     "output_type": "stream",
     "text": [
      "Out of Train\n",
      "=> Saving checkpoint\n",
      "checkpoint saved\n",
      "~~~~ In test ~~~~\n",
      "Loss = 0.8882390111684799\n",
      "IoU Score = 0.23115746676921844\n",
      "Dice Score = 0.3739147186279297\n",
      "~~~~~ Out of test ~~~~~\n",
      "In Train\n",
      "length of loader 1\n"
     ]
    },
    {
     "name": "stderr",
     "output_type": "stream",
     "text": [
      "100%|██████████| 1/1 [00:00<00:00,  2.57it/s, loss=0.441]\n"
     ]
    },
    {
     "name": "stdout",
     "output_type": "stream",
     "text": [
      "Out of Train\n",
      "=> Saving checkpoint\n",
      "checkpoint saved\n",
      "~~~~ In test ~~~~\n",
      "Loss = 0.8877616226673126\n",
      "IoU Score = 0.2345244437456131\n",
      "Dice Score = 0.37837955355644226\n",
      "~~~~~ Out of test ~~~~~\n",
      "In Train\n",
      "length of loader 1\n"
     ]
    },
    {
     "name": "stderr",
     "output_type": "stream",
     "text": [
      "100%|██████████| 1/1 [00:00<00:00,  2.57it/s, loss=0.439]\n"
     ]
    },
    {
     "name": "stdout",
     "output_type": "stream",
     "text": [
      "Out of Train\n",
      "=> Saving checkpoint\n",
      "checkpoint saved\n",
      "~~~~ In test ~~~~\n",
      "Loss = 0.8871851861476898\n",
      "IoU Score = 0.2385900616645813\n",
      "Dice Score = 0.3836372494697571\n",
      "~~~~~ Out of test ~~~~~\n",
      "In Train\n",
      "length of loader 1\n"
     ]
    },
    {
     "name": "stderr",
     "output_type": "stream",
     "text": [
      "100%|██████████| 1/1 [00:00<00:00,  2.54it/s, loss=0.438]\n"
     ]
    },
    {
     "name": "stdout",
     "output_type": "stream",
     "text": [
      "Out of Train\n",
      "=> Saving checkpoint\n",
      "checkpoint saved\n",
      "~~~~ In test ~~~~\n",
      "Loss = 0.8864230588078499\n",
      "IoU Score = 0.24081891775131226\n",
      "Dice Score = 0.38617393374443054\n",
      "~~~~~ Out of test ~~~~~\n",
      "In Train\n",
      "length of loader 1\n"
     ]
    },
    {
     "name": "stderr",
     "output_type": "stream",
     "text": [
      "100%|██████████| 1/1 [00:00<00:00,  2.55it/s, loss=0.436]\n"
     ]
    },
    {
     "name": "stdout",
     "output_type": "stream",
     "text": [
      "Out of Train\n",
      "=> Saving checkpoint\n",
      "checkpoint saved\n",
      "~~~~ In test ~~~~\n",
      "Loss = 0.8861917406320572\n",
      "IoU Score = 0.24243851006031036\n",
      "Dice Score = 0.38841626048088074\n",
      "~~~~~ Out of test ~~~~~\n",
      "In Train\n",
      "length of loader 1\n"
     ]
    },
    {
     "name": "stderr",
     "output_type": "stream",
     "text": [
      "100%|██████████| 1/1 [00:00<00:00,  2.52it/s, loss=0.436]\n"
     ]
    },
    {
     "name": "stdout",
     "output_type": "stream",
     "text": [
      "Out of Train\n",
      "=> Saving checkpoint\n",
      "checkpoint saved\n",
      "~~~~ In test ~~~~\n",
      "Loss = 0.8855423778295517\n",
      "IoU Score = 0.24883443117141724\n",
      "Dice Score = 0.3966776430606842\n",
      "~~~~~ Out of test ~~~~~\n",
      "In Train\n",
      "length of loader 1\n"
     ]
    },
    {
     "name": "stderr",
     "output_type": "stream",
     "text": [
      "100%|██████████| 1/1 [00:00<00:00,  2.58it/s, loss=0.434]\n"
     ]
    },
    {
     "name": "stdout",
     "output_type": "stream",
     "text": [
      "Out of Train\n",
      "=> Saving checkpoint\n",
      "checkpoint saved\n",
      "~~~~ In test ~~~~\n",
      "Loss = 0.8847061544656754\n",
      "IoU Score = 0.25257372856140137\n",
      "Dice Score = 0.4010455012321472\n",
      "~~~~~ Out of test ~~~~~\n",
      "In Train\n",
      "length of loader 1\n"
     ]
    },
    {
     "name": "stderr",
     "output_type": "stream",
     "text": [
      "100%|██████████| 1/1 [00:00<00:00,  2.55it/s, loss=0.432]\n"
     ]
    },
    {
     "name": "stdout",
     "output_type": "stream",
     "text": [
      "Out of Train\n",
      "=> Saving checkpoint\n",
      "checkpoint saved\n",
      "~~~~ In test ~~~~\n",
      "Loss = 0.883979856967926\n",
      "IoU Score = 0.25285813212394714\n",
      "Dice Score = 0.40111154317855835\n",
      "~~~~~ Out of test ~~~~~\n",
      "In Train\n",
      "length of loader 1\n"
     ]
    },
    {
     "name": "stderr",
     "output_type": "stream",
     "text": [
      "100%|██████████| 1/1 [00:00<00:00,  2.57it/s, loss=0.432]\n"
     ]
    },
    {
     "name": "stdout",
     "output_type": "stream",
     "text": [
      "Out of Train\n",
      "=> Saving checkpoint\n",
      "checkpoint saved\n",
      "~~~~ In test ~~~~\n",
      "Loss = 0.8835688382387161\n",
      "IoU Score = 0.2577176094055176\n",
      "Dice Score = 0.40753278136253357\n",
      "~~~~~ Out of test ~~~~~\n",
      "In Train\n",
      "length of loader 1\n"
     ]
    },
    {
     "name": "stderr",
     "output_type": "stream",
     "text": [
      "100%|██████████| 1/1 [00:00<00:00,  2.54it/s, loss=0.43]\n"
     ]
    },
    {
     "name": "stdout",
     "output_type": "stream",
     "text": [
      "Out of Train\n",
      "=> Saving checkpoint\n",
      "checkpoint saved\n",
      "~~~~ In test ~~~~\n",
      "Loss = 0.8832003623247147\n",
      "IoU Score = 0.26325827836990356\n",
      "Dice Score = 0.4147561192512512\n",
      "~~~~~ Out of test ~~~~~\n",
      "In Train\n",
      "length of loader 1\n"
     ]
    },
    {
     "name": "stderr",
     "output_type": "stream",
     "text": [
      "100%|██████████| 1/1 [00:00<00:00,  2.57it/s, loss=0.429]\n"
     ]
    },
    {
     "name": "stdout",
     "output_type": "stream",
     "text": [
      "Out of Train\n",
      "=> Saving checkpoint\n",
      "checkpoint saved\n",
      "~~~~ In test ~~~~\n",
      "Loss = 0.8826727271080017\n",
      "IoU Score = 0.2696189880371094\n",
      "Dice Score = 0.42273303866386414\n",
      "~~~~~ Out of test ~~~~~\n",
      "In Train\n",
      "length of loader 1\n"
     ]
    },
    {
     "name": "stderr",
     "output_type": "stream",
     "text": [
      "100%|██████████| 1/1 [00:00<00:00,  2.57it/s, loss=0.426]\n"
     ]
    },
    {
     "name": "stdout",
     "output_type": "stream",
     "text": [
      "Out of Train\n",
      "=> Saving checkpoint\n",
      "checkpoint saved\n",
      "~~~~ In test ~~~~\n",
      "Loss = 0.8818385899066925\n",
      "IoU Score = 0.273120254278183\n",
      "Dice Score = 0.4266666769981384\n",
      "~~~~~ Out of test ~~~~~\n",
      "In Train\n",
      "length of loader 1\n"
     ]
    },
    {
     "name": "stderr",
     "output_type": "stream",
     "text": [
      "100%|██████████| 1/1 [00:00<00:00,  2.55it/s, loss=0.425]\n"
     ]
    },
    {
     "name": "stdout",
     "output_type": "stream",
     "text": [
      "Out of Train\n",
      "=> Saving checkpoint\n",
      "checkpoint saved\n",
      "~~~~ In test ~~~~\n",
      "Loss = 0.8812640532851219\n",
      "IoU Score = 0.27144497632980347\n",
      "Dice Score = 0.4242331087589264\n",
      "~~~~~ Out of test ~~~~~\n",
      "In Train\n",
      "length of loader 1\n"
     ]
    },
    {
     "name": "stderr",
     "output_type": "stream",
     "text": [
      "100%|██████████| 1/1 [00:00<00:00,  2.57it/s, loss=0.424]\n"
     ]
    },
    {
     "name": "stdout",
     "output_type": "stream",
     "text": [
      "Out of Train\n",
      "=> Saving checkpoint\n",
      "checkpoint saved\n",
      "~~~~ In test ~~~~\n",
      "Loss = 0.8809459656476974\n",
      "IoU Score = 0.27125436067581177\n",
      "Dice Score = 0.42402204871177673\n",
      "~~~~~ Out of test ~~~~~\n",
      "In Train\n",
      "length of loader 1\n"
     ]
    },
    {
     "name": "stderr",
     "output_type": "stream",
     "text": [
      "100%|██████████| 1/1 [00:00<00:00,  2.53it/s, loss=0.424]\n"
     ]
    },
    {
     "name": "stdout",
     "output_type": "stream",
     "text": [
      "Out of Train\n",
      "=> Saving checkpoint\n",
      "checkpoint saved\n",
      "~~~~ In test ~~~~\n",
      "Loss = 0.8807249143719673\n",
      "IoU Score = 0.2731197476387024\n",
      "Dice Score = 0.42648255825042725\n",
      "~~~~~ Out of test ~~~~~\n",
      "In Train\n",
      "length of loader 1\n"
     ]
    },
    {
     "name": "stderr",
     "output_type": "stream",
     "text": [
      "100%|██████████| 1/1 [00:00<00:00,  2.56it/s, loss=0.422]\n"
     ]
    },
    {
     "name": "stdout",
     "output_type": "stream",
     "text": [
      "Out of Train\n",
      "=> Saving checkpoint\n",
      "checkpoint saved\n",
      "~~~~ In test ~~~~\n",
      "Loss = 0.8804804012179375\n",
      "IoU Score = 0.26958540081977844\n",
      "Dice Score = 0.4219874143600464\n",
      "~~~~~ Out of test ~~~~~\n",
      "In Train\n",
      "length of loader 1\n"
     ]
    },
    {
     "name": "stderr",
     "output_type": "stream",
     "text": [
      "100%|██████████| 1/1 [00:00<00:00,  2.54it/s, loss=0.421]\n"
     ]
    },
    {
     "name": "stdout",
     "output_type": "stream",
     "text": [
      "Out of Train\n",
      "=> Saving checkpoint\n",
      "checkpoint saved\n",
      "~~~~ In test ~~~~\n",
      "Loss = 0.8804858699440956\n",
      "IoU Score = 0.26336565613746643\n",
      "Dice Score = 0.4144309461116791\n",
      "~~~~~ Out of test ~~~~~\n",
      "In Train\n",
      "length of loader 1\n"
     ]
    },
    {
     "name": "stderr",
     "output_type": "stream",
     "text": [
      "100%|██████████| 1/1 [00:00<00:00,  2.55it/s, loss=0.42]\n"
     ]
    },
    {
     "name": "stdout",
     "output_type": "stream",
     "text": [
      "Out of Train\n",
      "=> Saving checkpoint\n",
      "checkpoint saved\n",
      "~~~~ In test ~~~~\n",
      "Loss = 0.8803795948624611\n",
      "IoU Score = 0.26411646604537964\n",
      "Dice Score = 0.41612520813941956\n",
      "~~~~~ Out of test ~~~~~\n",
      "In Train\n",
      "length of loader 1\n"
     ]
    },
    {
     "name": "stderr",
     "output_type": "stream",
     "text": [
      "100%|██████████| 1/1 [00:00<00:00,  2.54it/s, loss=0.418]\n"
     ]
    },
    {
     "name": "stdout",
     "output_type": "stream",
     "text": [
      "Out of Train\n",
      "=> Saving checkpoint\n",
      "checkpoint saved\n",
      "~~~~ In test ~~~~\n",
      "Loss = 0.8794294744729996\n",
      "IoU Score = 0.27741241455078125\n",
      "Dice Score = 0.43285611271858215\n",
      "~~~~~ Out of test ~~~~~\n",
      "In Train\n",
      "length of loader 1\n"
     ]
    },
    {
     "name": "stderr",
     "output_type": "stream",
     "text": [
      "100%|██████████| 1/1 [00:00<00:00,  2.56it/s, loss=0.416]\n"
     ]
    },
    {
     "name": "stdout",
     "output_type": "stream",
     "text": [
      "Out of Train\n",
      "=> Saving checkpoint\n",
      "checkpoint saved\n",
      "~~~~ In test ~~~~\n",
      "Loss = 0.8779539912939072\n",
      "IoU Score = 0.2937256991863251\n",
      "Dice Score = 0.4521680474281311\n",
      "~~~~~ Out of test ~~~~~\n",
      "In Train\n",
      "length of loader 1\n"
     ]
    },
    {
     "name": "stderr",
     "output_type": "stream",
     "text": [
      "100%|██████████| 1/1 [00:00<00:00,  2.53it/s, loss=0.416]\n"
     ]
    },
    {
     "name": "stdout",
     "output_type": "stream",
     "text": [
      "Out of Train\n",
      "=> Saving checkpoint\n",
      "checkpoint saved\n",
      "~~~~ In test ~~~~\n",
      "Loss = 0.8767442107200623\n",
      "IoU Score = 0.29708415269851685\n",
      "Dice Score = 0.4553082585334778\n",
      "~~~~~ Out of test ~~~~~\n",
      "In Train\n",
      "length of loader 1\n"
     ]
    },
    {
     "name": "stderr",
     "output_type": "stream",
     "text": [
      "100%|██████████| 1/1 [00:00<00:00,  2.55it/s, loss=0.415]\n"
     ]
    },
    {
     "name": "stdout",
     "output_type": "stream",
     "text": [
      "Out of Train\n",
      "=> Saving checkpoint\n",
      "checkpoint saved\n",
      "~~~~ In test ~~~~\n",
      "Loss = 0.876117393374443\n",
      "IoU Score = 0.2918311357498169\n",
      "Dice Score = 0.44836345314979553\n",
      "~~~~~ Out of test ~~~~~\n",
      "In Train\n",
      "length of loader 1\n"
     ]
    },
    {
     "name": "stderr",
     "output_type": "stream",
     "text": [
      "100%|██████████| 1/1 [00:00<00:00,  2.53it/s, loss=0.413]\n"
     ]
    },
    {
     "name": "stdout",
     "output_type": "stream",
     "text": [
      "Out of Train\n",
      "=> Saving checkpoint\n",
      "checkpoint saved\n",
      "~~~~ In test ~~~~\n",
      "Loss = 0.8759342283010483\n",
      "IoU Score = 0.306946724653244\n",
      "Dice Score = 0.4671417474746704\n",
      "~~~~~ Out of test ~~~~~\n",
      "In Train\n",
      "length of loader 1\n"
     ]
    },
    {
     "name": "stderr",
     "output_type": "stream",
     "text": [
      "100%|██████████| 1/1 [00:00<00:00,  2.53it/s, loss=0.413]\n"
     ]
    },
    {
     "name": "stdout",
     "output_type": "stream",
     "text": [
      "Out of Train\n",
      "=> Saving checkpoint\n",
      "checkpoint saved\n",
      "~~~~ In test ~~~~\n",
      "Loss = 0.8763292729854584\n",
      "IoU Score = 0.30569735169410706\n",
      "Dice Score = 0.466543972492218\n",
      "~~~~~ Out of test ~~~~~\n",
      "In Train\n",
      "length of loader 1\n"
     ]
    },
    {
     "name": "stderr",
     "output_type": "stream",
     "text": [
      "100%|██████████| 1/1 [00:00<00:00,  2.53it/s, loss=0.412]\n"
     ]
    },
    {
     "name": "stdout",
     "output_type": "stream",
     "text": [
      "Out of Train\n",
      "=> Saving checkpoint\n",
      "checkpoint saved\n",
      "~~~~ In test ~~~~\n",
      "Loss = 0.8765174224972725\n",
      "IoU Score = 0.2981906235218048\n",
      "Dice Score = 0.457978218793869\n",
      "~~~~~ Out of test ~~~~~\n",
      "In Train\n",
      "length of loader 1\n"
     ]
    },
    {
     "name": "stderr",
     "output_type": "stream",
     "text": [
      "100%|██████████| 1/1 [00:00<00:00,  2.52it/s, loss=0.411]\n"
     ]
    },
    {
     "name": "stdout",
     "output_type": "stream",
     "text": [
      "Out of Train\n",
      "=> Saving checkpoint\n",
      "checkpoint saved\n",
      "~~~~ In test ~~~~\n",
      "Loss = 0.8765793517231941\n",
      "IoU Score = 0.2912742793560028\n",
      "Dice Score = 0.4500541388988495\n",
      "~~~~~ Out of test ~~~~~\n",
      "In Train\n",
      "length of loader 1\n"
     ]
    },
    {
     "name": "stderr",
     "output_type": "stream",
     "text": [
      "100%|██████████| 1/1 [00:00<00:00,  2.55it/s, loss=0.409]\n"
     ]
    },
    {
     "name": "stdout",
     "output_type": "stream",
     "text": [
      "Out of Train\n",
      "=> Saving checkpoint\n",
      "checkpoint saved\n",
      "~~~~ In test ~~~~\n",
      "Loss = 0.8757492452859879\n",
      "IoU Score = 0.2981940805912018\n",
      "Dice Score = 0.4582383930683136\n",
      "~~~~~ Out of test ~~~~~\n",
      "In Train\n",
      "length of loader 1\n"
     ]
    },
    {
     "name": "stderr",
     "output_type": "stream",
     "text": [
      "100%|██████████| 1/1 [00:00<00:00,  2.55it/s, loss=0.407]\n"
     ]
    },
    {
     "name": "stdout",
     "output_type": "stream",
     "text": [
      "Out of Train\n",
      "=> Saving checkpoint\n",
      "checkpoint saved\n",
      "~~~~ In test ~~~~\n",
      "Loss = 0.8747156262397766\n",
      "IoU Score = 0.3098751902580261\n",
      "Dice Score = 0.4717869758605957\n",
      "~~~~~ Out of test ~~~~~\n",
      "In Train\n",
      "length of loader 1\n"
     ]
    },
    {
     "name": "stderr",
     "output_type": "stream",
     "text": [
      "100%|██████████| 1/1 [00:00<00:00,  2.54it/s, loss=0.407]\n"
     ]
    },
    {
     "name": "stdout",
     "output_type": "stream",
     "text": [
      "Out of Train\n",
      "=> Saving checkpoint\n",
      "checkpoint saved\n",
      "~~~~ In test ~~~~\n",
      "Loss = 0.8739042654633522\n",
      "IoU Score = 0.3194098174571991\n",
      "Dice Score = 0.4826951026916504\n",
      "~~~~~ Out of test ~~~~~\n",
      "In Train\n",
      "length of loader 1\n"
     ]
    },
    {
     "name": "stderr",
     "output_type": "stream",
     "text": [
      "100%|██████████| 1/1 [00:00<00:00,  2.54it/s, loss=0.407]\n"
     ]
    },
    {
     "name": "stdout",
     "output_type": "stream",
     "text": [
      "Out of Train\n",
      "=> Saving checkpoint\n",
      "checkpoint saved\n",
      "~~~~ In test ~~~~\n",
      "Loss = 0.8731907308101654\n",
      "IoU Score = 0.3267463743686676\n",
      "Dice Score = 0.49084600806236267\n",
      "~~~~~ Out of test ~~~~~\n",
      "In Train\n",
      "length of loader 1\n"
     ]
    },
    {
     "name": "stderr",
     "output_type": "stream",
     "text": [
      "100%|██████████| 1/1 [00:00<00:00,  2.55it/s, loss=0.405]\n"
     ]
    },
    {
     "name": "stdout",
     "output_type": "stream",
     "text": [
      "Out of Train\n",
      "=> Saving checkpoint\n",
      "checkpoint saved\n",
      "~~~~ In test ~~~~\n",
      "Loss = 0.872689351439476\n",
      "IoU Score = 0.3293287456035614\n",
      "Dice Score = 0.4936169683933258\n",
      "~~~~~ Out of test ~~~~~\n",
      "In Train\n",
      "length of loader 1\n"
     ]
    },
    {
     "name": "stderr",
     "output_type": "stream",
     "text": [
      "100%|██████████| 1/1 [00:00<00:00,  2.54it/s, loss=0.403]\n"
     ]
    },
    {
     "name": "stdout",
     "output_type": "stream",
     "text": [
      "Out of Train\n",
      "=> Saving checkpoint\n",
      "checkpoint saved\n",
      "~~~~ In test ~~~~\n",
      "Loss = 0.8722776025533676\n",
      "IoU Score = 0.3299389183521271\n",
      "Dice Score = 0.494147390127182\n",
      "~~~~~ Out of test ~~~~~\n",
      "In Train\n",
      "length of loader 1\n"
     ]
    },
    {
     "name": "stderr",
     "output_type": "stream",
     "text": [
      "100%|██████████| 1/1 [00:00<00:00,  2.54it/s, loss=0.402]\n"
     ]
    },
    {
     "name": "stdout",
     "output_type": "stream",
     "text": [
      "Out of Train\n",
      "=> Saving checkpoint\n",
      "checkpoint saved\n",
      "~~~~ In test ~~~~\n",
      "Loss = 0.8721872717142105\n",
      "IoU Score = 0.32553842663764954\n",
      "Dice Score = 0.4893207848072052\n",
      "~~~~~ Out of test ~~~~~\n",
      "In Train\n",
      "length of loader 1\n"
     ]
    },
    {
     "name": "stderr",
     "output_type": "stream",
     "text": [
      "100%|██████████| 1/1 [00:00<00:00,  2.55it/s, loss=0.403]\n"
     ]
    },
    {
     "name": "stdout",
     "output_type": "stream",
     "text": [
      "Out of Train\n",
      "=> Saving checkpoint\n",
      "checkpoint saved\n",
      "~~~~ In test ~~~~\n",
      "Loss = 0.8724224418401718\n",
      "IoU Score = 0.3167148232460022\n",
      "Dice Score = 0.4796212911605835\n",
      "~~~~~ Out of test ~~~~~\n",
      "In Train\n",
      "length of loader 1\n"
     ]
    },
    {
     "name": "stderr",
     "output_type": "stream",
     "text": [
      "100%|██████████| 1/1 [00:00<00:00,  2.55it/s, loss=0.401]\n"
     ]
    },
    {
     "name": "stdout",
     "output_type": "stream",
     "text": [
      "Out of Train\n",
      "=> Saving checkpoint\n",
      "checkpoint saved\n",
      "~~~~ In test ~~~~\n",
      "Loss = 0.8717649728059769\n",
      "IoU Score = 0.3208610713481903\n",
      "Dice Score = 0.4843505024909973\n",
      "~~~~~ Out of test ~~~~~\n",
      "In Train\n",
      "length of loader 1\n"
     ]
    },
    {
     "name": "stderr",
     "output_type": "stream",
     "text": [
      "100%|██████████| 1/1 [00:00<00:00,  2.55it/s, loss=0.4]\n"
     ]
    },
    {
     "name": "stdout",
     "output_type": "stream",
     "text": [
      "Out of Train\n",
      "=> Saving checkpoint\n",
      "checkpoint saved\n",
      "~~~~ In test ~~~~\n",
      "Loss = 0.8709873184561729\n",
      "IoU Score = 0.3274722397327423\n",
      "Dice Score = 0.4917764663696289\n",
      "~~~~~ Out of test ~~~~~\n",
      "In Train\n",
      "length of loader 1\n"
     ]
    },
    {
     "name": "stderr",
     "output_type": "stream",
     "text": [
      "100%|██████████| 1/1 [00:00<00:00,  2.53it/s, loss=0.4]\n"
     ]
    },
    {
     "name": "stdout",
     "output_type": "stream",
     "text": [
      "Out of Train\n",
      "=> Saving checkpoint\n",
      "checkpoint saved\n",
      "~~~~ In test ~~~~\n",
      "Loss = 0.8703281059861183\n",
      "IoU Score = 0.33538562059402466\n",
      "Dice Score = 0.5006879568099976\n",
      "~~~~~ Out of test ~~~~~\n",
      "In Train\n",
      "length of loader 1\n"
     ]
    },
    {
     "name": "stderr",
     "output_type": "stream",
     "text": [
      "100%|██████████| 1/1 [00:00<00:00,  2.55it/s, loss=0.399]\n"
     ]
    },
    {
     "name": "stdout",
     "output_type": "stream",
     "text": [
      "Out of Train\n",
      "=> Saving checkpoint\n",
      "checkpoint saved\n",
      "~~~~ In test ~~~~\n",
      "Loss = 0.8701453506946564\n",
      "IoU Score = 0.33688944578170776\n",
      "Dice Score = 0.502585768699646\n",
      "~~~~~ Out of test ~~~~~\n",
      "In Train\n",
      "length of loader 1\n"
     ]
    },
    {
     "name": "stderr",
     "output_type": "stream",
     "text": [
      "100%|██████████| 1/1 [00:00<00:00,  2.48it/s, loss=0.399]\n"
     ]
    },
    {
     "name": "stdout",
     "output_type": "stream",
     "text": [
      "Out of Train\n",
      "=> Saving checkpoint\n",
      "checkpoint saved\n",
      "~~~~ In test ~~~~\n",
      "Loss = 0.8694569692015648\n",
      "IoU Score = 0.3451552987098694\n",
      "Dice Score = 0.5114955902099609\n",
      "~~~~~ Out of test ~~~~~\n",
      "In Train\n",
      "length of loader 1\n"
     ]
    },
    {
     "name": "stderr",
     "output_type": "stream",
     "text": [
      "100%|██████████| 1/1 [00:00<00:00,  2.55it/s, loss=0.396]\n"
     ]
    },
    {
     "name": "stdout",
     "output_type": "stream",
     "text": [
      "Out of Train\n",
      "=> Saving checkpoint\n",
      "checkpoint saved\n",
      "~~~~ In test ~~~~\n",
      "Loss = 0.8686492964625359\n",
      "IoU Score = 0.35177478194236755\n",
      "Dice Score = 0.5180842876434326\n",
      "~~~~~ Out of test ~~~~~\n",
      "In Train\n",
      "length of loader 1\n"
     ]
    },
    {
     "name": "stderr",
     "output_type": "stream",
     "text": [
      "100%|██████████| 1/1 [00:00<00:00,  2.55it/s, loss=0.396]\n"
     ]
    },
    {
     "name": "stdout",
     "output_type": "stream",
     "text": [
      "Out of Train\n",
      "=> Saving checkpoint\n",
      "checkpoint saved\n",
      "~~~~ In test ~~~~\n",
      "Loss = 0.8683891370892525\n",
      "IoU Score = 0.34958115220069885\n",
      "Dice Score = 0.5155549049377441\n",
      "~~~~~ Out of test ~~~~~\n",
      "In Train\n",
      "length of loader 1\n"
     ]
    },
    {
     "name": "stderr",
     "output_type": "stream",
     "text": [
      "100%|██████████| 1/1 [00:00<00:00,  2.51it/s, loss=0.395]\n"
     ]
    },
    {
     "name": "stdout",
     "output_type": "stream",
     "text": [
      "Out of Train\n",
      "=> Saving checkpoint\n",
      "checkpoint saved\n",
      "~~~~ In test ~~~~\n",
      "Loss = 0.8687110543251038\n",
      "IoU Score = 0.33821725845336914\n",
      "Dice Score = 0.503707230091095\n",
      "~~~~~ Out of test ~~~~~\n",
      "In Train\n",
      "length of loader 1\n"
     ]
    },
    {
     "name": "stderr",
     "output_type": "stream",
     "text": [
      "100%|██████████| 1/1 [00:00<00:00,  2.55it/s, loss=0.394]\n"
     ]
    },
    {
     "name": "stdout",
     "output_type": "stream",
     "text": [
      "Out of Train\n",
      "=> Saving checkpoint\n",
      "checkpoint saved\n",
      "~~~~ In test ~~~~\n",
      "Loss = 0.869427464902401\n",
      "IoU Score = 0.32021474838256836\n",
      "Dice Score = 0.48397907614707947\n",
      "~~~~~ Out of test ~~~~~\n",
      "In Train\n",
      "length of loader 1\n"
     ]
    },
    {
     "name": "stderr",
     "output_type": "stream",
     "text": [
      "100%|██████████| 1/1 [00:00<00:00,  2.54it/s, loss=0.393]\n"
     ]
    },
    {
     "name": "stdout",
     "output_type": "stream",
     "text": [
      "Out of Train\n",
      "=> Saving checkpoint\n",
      "checkpoint saved\n",
      "~~~~ In test ~~~~\n",
      "Loss = 0.8695865571498871\n",
      "IoU Score = 0.31240853667259216\n",
      "Dice Score = 0.47517338395118713\n",
      "~~~~~ Out of test ~~~~~\n",
      "In Train\n",
      "length of loader 1\n"
     ]
    },
    {
     "name": "stderr",
     "output_type": "stream",
     "text": [
      "100%|██████████| 1/1 [00:00<00:00,  2.50it/s, loss=0.392]\n"
     ]
    },
    {
     "name": "stdout",
     "output_type": "stream",
     "text": [
      "Out of Train\n",
      "=> Saving checkpoint\n",
      "checkpoint saved\n",
      "~~~~ In test ~~~~\n",
      "Loss = 0.8687737360596657\n",
      "IoU Score = 0.3231762945652008\n",
      "Dice Score = 0.48745957016944885\n",
      "~~~~~ Out of test ~~~~~\n",
      "In Train\n",
      "length of loader 1\n"
     ]
    },
    {
     "name": "stderr",
     "output_type": "stream",
     "text": [
      "100%|██████████| 1/1 [00:00<00:00,  2.49it/s, loss=0.392]\n"
     ]
    },
    {
     "name": "stdout",
     "output_type": "stream",
     "text": [
      "Out of Train\n",
      "=> Saving checkpoint\n",
      "checkpoint saved\n",
      "~~~~ In test ~~~~\n",
      "Loss = 0.8678360432386398\n",
      "IoU Score = 0.33554232120513916\n",
      "Dice Score = 0.5011101961135864\n",
      "~~~~~ Out of test ~~~~~\n",
      "In Train\n",
      "length of loader 1\n"
     ]
    },
    {
     "name": "stderr",
     "output_type": "stream",
     "text": [
      "100%|██████████| 1/1 [00:00<00:00,  2.48it/s, loss=0.391]\n"
     ]
    },
    {
     "name": "stdout",
     "output_type": "stream",
     "text": [
      "Out of Train\n",
      "=> Saving checkpoint\n",
      "checkpoint saved\n",
      "~~~~ In test ~~~~\n",
      "Loss = 0.8671027570962906\n",
      "IoU Score = 0.3463512063026428\n",
      "Dice Score = 0.5128359198570251\n",
      "~~~~~ Out of test ~~~~~\n",
      "In Train\n",
      "length of loader 1\n"
     ]
    },
    {
     "name": "stderr",
     "output_type": "stream",
     "text": [
      "100%|██████████| 1/1 [00:00<00:00,  2.50it/s, loss=0.39]\n"
     ]
    },
    {
     "name": "stdout",
     "output_type": "stream",
     "text": [
      "Out of Train\n",
      "=> Saving checkpoint\n",
      "checkpoint saved\n",
      "~~~~ In test ~~~~\n",
      "Loss = 0.8664827793836594\n",
      "IoU Score = 0.35510122776031494\n",
      "Dice Score = 0.5221383571624756\n",
      "~~~~~ Out of test ~~~~~\n",
      "In Train\n",
      "length of loader 1\n"
     ]
    },
    {
     "name": "stderr",
     "output_type": "stream",
     "text": [
      "100%|██████████| 1/1 [00:00<00:00,  2.46it/s, loss=0.39]\n"
     ]
    },
    {
     "name": "stdout",
     "output_type": "stream",
     "text": [
      "Out of Train\n",
      "=> Saving checkpoint\n",
      "checkpoint saved\n",
      "~~~~ In test ~~~~\n",
      "Loss = 0.8658493086695671\n",
      "IoU Score = 0.36067476868629456\n",
      "Dice Score = 0.527836263179779\n",
      "~~~~~ Out of test ~~~~~\n",
      "In Train\n",
      "length of loader 1\n"
     ]
    },
    {
     "name": "stderr",
     "output_type": "stream",
     "text": [
      "100%|██████████| 1/1 [00:00<00:00,  2.47it/s, loss=0.389]\n"
     ]
    },
    {
     "name": "stdout",
     "output_type": "stream",
     "text": [
      "Out of Train\n",
      "=> Saving checkpoint\n",
      "checkpoint saved\n",
      "~~~~ In test ~~~~\n",
      "Loss = 0.8656260445713997\n",
      "IoU Score = 0.35780805349349976\n",
      "Dice Score = 0.5249608755111694\n",
      "~~~~~ Out of test ~~~~~\n",
      "In Train\n",
      "length of loader 1\n"
     ]
    },
    {
     "name": "stderr",
     "output_type": "stream",
     "text": [
      "100%|██████████| 1/1 [00:00<00:00,  2.48it/s, loss=0.388]\n"
     ]
    },
    {
     "name": "stdout",
     "output_type": "stream",
     "text": [
      "Out of Train\n",
      "=> Saving checkpoint\n",
      "checkpoint saved\n",
      "~~~~ In test ~~~~\n",
      "Loss = 0.86570605635643\n",
      "IoU Score = 0.35311922430992126\n",
      "Dice Score = 0.5202978849411011\n",
      "~~~~~ Out of test ~~~~~\n",
      "In Train\n",
      "length of loader 1\n"
     ]
    },
    {
     "name": "stderr",
     "output_type": "stream",
     "text": [
      "100%|██████████| 1/1 [00:00<00:00,  2.46it/s, loss=0.388]\n"
     ]
    },
    {
     "name": "stdout",
     "output_type": "stream",
     "text": [
      "Out of Train\n",
      "=> Saving checkpoint\n",
      "checkpoint saved\n",
      "~~~~ In test ~~~~\n",
      "Loss = 0.8657039925456047\n",
      "IoU Score = 0.3482436239719391\n",
      "Dice Score = 0.5150628685951233\n",
      "~~~~~ Out of test ~~~~~\n",
      "In Train\n",
      "length of loader 1\n"
     ]
    },
    {
     "name": "stderr",
     "output_type": "stream",
     "text": [
      "100%|██████████| 1/1 [00:00<00:00,  2.48it/s, loss=0.387]\n"
     ]
    },
    {
     "name": "stdout",
     "output_type": "stream",
     "text": [
      "Out of Train\n",
      "=> Saving checkpoint\n",
      "checkpoint saved\n",
      "~~~~ In test ~~~~\n",
      "Loss = 0.8655475899577141\n",
      "IoU Score = 0.34517452120780945\n",
      "Dice Score = 0.5115839242935181\n",
      "~~~~~ Out of test ~~~~~\n",
      "In Train\n",
      "length of loader 1\n"
     ]
    },
    {
     "name": "stderr",
     "output_type": "stream",
     "text": [
      "100%|██████████| 1/1 [00:00<00:00,  2.49it/s, loss=0.386]\n"
     ]
    },
    {
     "name": "stdout",
     "output_type": "stream",
     "text": [
      "Out of Train\n",
      "=> Saving checkpoint\n",
      "checkpoint saved\n",
      "~~~~ In test ~~~~\n",
      "Loss = 0.865570917725563\n",
      "IoU Score = 0.33927470445632935\n",
      "Dice Score = 0.5051335096359253\n",
      "~~~~~ Out of test ~~~~~\n",
      "In Train\n",
      "length of loader 1\n"
     ]
    },
    {
     "name": "stderr",
     "output_type": "stream",
     "text": [
      "100%|██████████| 1/1 [00:00<00:00,  2.49it/s, loss=0.385]\n"
     ]
    },
    {
     "name": "stdout",
     "output_type": "stream",
     "text": [
      "Out of Train\n",
      "=> Saving checkpoint\n",
      "checkpoint saved\n",
      "~~~~ In test ~~~~\n",
      "Loss = 0.8653785660862923\n",
      "IoU Score = 0.33909663558006287\n",
      "Dice Score = 0.5049746632575989\n",
      "~~~~~ Out of test ~~~~~\n",
      "In Train\n",
      "length of loader 1\n"
     ]
    },
    {
     "name": "stderr",
     "output_type": "stream",
     "text": [
      "100%|██████████| 1/1 [00:00<00:00,  2.51it/s, loss=0.384]\n"
     ]
    },
    {
     "name": "stdout",
     "output_type": "stream",
     "text": [
      "Out of Train\n",
      "=> Saving checkpoint\n",
      "checkpoint saved\n",
      "~~~~ In test ~~~~\n",
      "Loss = 0.8653146252036095\n",
      "IoU Score = 0.33742451667785645\n",
      "Dice Score = 0.5032329559326172\n",
      "~~~~~ Out of test ~~~~~\n",
      "In Train\n",
      "length of loader 1\n"
     ]
    },
    {
     "name": "stderr",
     "output_type": "stream",
     "text": [
      "100%|██████████| 1/1 [00:00<00:00,  2.48it/s, loss=0.383]\n"
     ]
    },
    {
     "name": "stdout",
     "output_type": "stream",
     "text": [
      "Out of Train\n",
      "=> Saving checkpoint\n",
      "checkpoint saved\n",
      "~~~~ In test ~~~~\n",
      "Loss = 0.8649416267871857\n",
      "IoU Score = 0.34007003903388977\n",
      "Dice Score = 0.5061210989952087\n",
      "~~~~~ Out of test ~~~~~\n",
      "In Train\n",
      "length of loader 1\n"
     ]
    },
    {
     "name": "stderr",
     "output_type": "stream",
     "text": [
      "100%|██████████| 1/1 [00:00<00:00,  2.48it/s, loss=0.383]\n"
     ]
    },
    {
     "name": "stdout",
     "output_type": "stream",
     "text": [
      "Out of Train\n",
      "=> Saving checkpoint\n",
      "checkpoint saved\n",
      "~~~~ In test ~~~~\n",
      "Loss = 0.8642592653632164\n",
      "IoU Score = 0.3490697145462036\n",
      "Dice Score = 0.5158318281173706\n",
      "~~~~~ Out of test ~~~~~\n",
      "In Train\n",
      "length of loader 1\n"
     ]
    }
   ],
   "source": [
    "for lr in learning_rates:\n",
    "    for bs in BATCH_SIZES:\n",
    "        for img_size in imageSize:\n",
    "            \n",
    "            df = pd.DataFrame(columns=column_names)\n",
    "            LEARNING_RATE = lr\n",
    "            BATCH_SIZE = bs\n",
    "            NUM_EPOCHS = 200\n",
    "            NUM_WORKERS = 0\n",
    "            IMAGE_HEIGHT = img_size \n",
    "            IMAGE_WIDTH = img_size  \n",
    "        \n",
    "            csv_filename = str(optim_flag) + \"_output_\" + \"bs\" + str(BATCH_SIZE) + \"_lr\" + str(LEARNING_RATE) +\"_imgSize\"+ str(IMAGE_HEIGHT)+\"_epoch\"+ str(NUM_EPOCHS)+\".csv\"\n",
    "\n",
    "            train_transform = A.Compose(\n",
    "                [\n",
    "                    A.Resize(height=IMAGE_HEIGHT, width=IMAGE_WIDTH),\n",
    "                    A.Rotate(limit=35, p=1.0),\n",
    "                    A.HorizontalFlip(p=0.5),\n",
    "                    A.VerticalFlip(p=0.1),\n",
    "                    A.Normalize(\n",
    "                        mean=[0.0, 0.0, 0.0],\n",
    "                        std=[1.0, 1.0, 1.0],\n",
    "                        max_pixel_value=255.0,\n",
    "                    ),\n",
    "                    ToTensorV2(),\n",
    "                ],\n",
    "            )\n",
    "            \n",
    "            # used to transform validation set\n",
    "            val_transforms = A.Compose(\n",
    "                [\n",
    "                    A.Resize(height=IMAGE_HEIGHT, width=IMAGE_WIDTH),\n",
    "                    A.Normalize(\n",
    "                        mean=[0.0, 0.0, 0.0],\n",
    "                        std=[1.0, 1.0, 1.0],\n",
    "                        max_pixel_value=255.0,\n",
    "                    ),\n",
    "                    ToTensorV2(),\n",
    "                ],\n",
    "            )\n",
    "            \n",
    "            \n",
    "            train_loader, val_loader = get_loaders(\n",
    "                TRAIN_IMG_DIR,\n",
    "                TRAIN_MASK_DIR,\n",
    "                VAL_IMG_DIR,\n",
    "                VAL_MASK_DIR,\n",
    "                BATCH_SIZE,\n",
    "                train_transform,\n",
    "                val_transforms,\n",
    "                NUM_WORKERS,\n",
    "                PIN_MEMORY,\n",
    "            )\n",
    "            \n",
    "            \n",
    "            model = UNET().to(DEVICE)\n",
    "            loss_fn = nn.BCEWithLogitsLoss()\n",
    "            \n",
    "            if optim_flag == \"adam\":\n",
    "                optimizer = optim.Adam(model.parameters(), lr=LEARNING_RATE)\n",
    "            else:\n",
    "                optimizer = optim.SGD(model.parameters(), lr=LEARNING_RATE)\n",
    "    \n",
    "            checkpoint_name = \"central/\"+str(optim_flag)+\"/checkpoint2/\"+str(optim_flag)+\"_checkpoint_imgSize\" + str(IMAGE_WIDTH) + \"_bs\" + str(BATCH_SIZE) + \"_lr\" + str(LEARNING_RATE) + \".pth.tar\"\n",
    "            print('check point')\n",
    "            print(checkpoint_name)\n",
    "            \n",
    "            if LOAD_MODEL:\n",
    "                load_checkpoint(torch.load(checkpoint_name), model)\n",
    "            \n",
    "            single_epoch_result = validate_model(val_loader, model, loss_fn, device=DEVICE)\n",
    "            print(f'length of train loader -> {len(train_loader)}')\n",
    "            print(\"First Check - Before training starts\")\n",
    "            for label, item in zip(labels, single_epoch_result):\n",
    "                print(f\"{label}: {item}\")\n",
    "                \n",
    "            scaler = torch.cuda.amp.GradScaler()\n",
    "            \n",
    "            for epoch in range(NUM_EPOCHS):\n",
    "                single_epoch_result = []\n",
    "                train_model(train_loader, model, optimizer, loss_fn, scaler)\n",
    "                \n",
    "                # save model\n",
    "                checkpoint = {\n",
    "                    \"state_dict\": model.state_dict(),\n",
    "                    \"optimizer\":optimizer.state_dict(),\n",
    "                }\n",
    "                save_checkpoint(checkpoint, checkpoint_name)\n",
    "                print('checkpoint saved')\n",
    "                \n",
    "                # Saving model accuracy to a csv \n",
    "                #single_epoch_result.append(epoch)\n",
    "                single_epoch_result = validate_model(val_loader, model, loss_fn, device=DEVICE)\n",
    "                single_epoch_result.append(LEARNING_RATE)\n",
    "                \n",
    "                single_epoch_result.insert(0, epoch)\n",
    "                df.loc[len(df)] = single_epoch_result\n",
    "            \n",
    "                # print some examples to a folderthu\n",
    "                # save_predictions_as_imgs(\n",
    "                #     val_loader, model, folder=\"/central/adam/prediction_images/\", device=DEVICE\n",
    "                # )\n",
    "            \n",
    "            \n",
    "            # Save the DataFrame as a CSV file\n",
    "            csv_path = 'central/'+str(optim_flag)+'/dataframe_fix/' + csv_filename\n",
    "            df.to_csv(csv_path, index=False)\n"
   ]
  },
  {
   "cell_type": "code",
   "execution_count": null,
   "id": "2589dcad-2fe9-4977-b7c7-3e27d853fdd1",
   "metadata": {},
   "outputs": [],
   "source": []
  }
 ],
 "metadata": {
  "kernelspec": {
   "display_name": "flwr_38",
   "language": "python",
   "name": "flwr_38"
  },
  "language_info": {
   "codemirror_mode": {
    "name": "ipython",
    "version": 3
   },
   "file_extension": ".py",
   "mimetype": "text/x-python",
   "name": "python",
   "nbconvert_exporter": "python",
   "pygments_lexer": "ipython3",
   "version": "3.8.10"
  }
 },
 "nbformat": 4,
 "nbformat_minor": 5
}
